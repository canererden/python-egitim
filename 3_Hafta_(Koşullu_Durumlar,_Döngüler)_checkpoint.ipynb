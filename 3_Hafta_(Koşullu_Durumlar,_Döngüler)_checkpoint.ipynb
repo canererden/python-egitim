{
  "nbformat": 4,
  "nbformat_minor": 0,
  "metadata": {
    "kernelspec": {
      "display_name": "Python 3",
      "language": "python",
      "name": "python3"
    },
    "language_info": {
      "codemirror_mode": {
        "name": "ipython",
        "version": 3
      },
      "file_extension": ".py",
      "mimetype": "text/x-python",
      "name": "python",
      "nbconvert_exporter": "python",
      "pygments_lexer": "ipython3",
      "version": "3.7.5"
    },
    "toc": {
      "base_numbering": 1,
      "nav_menu": {},
      "number_sections": true,
      "sideBar": true,
      "skip_h1_title": false,
      "title_cell": "Table of Contents",
      "title_sidebar": "Contents",
      "toc_cell": false,
      "toc_position": {},
      "toc_section_display": true,
      "toc_window_display": false
    },
    "colab": {
      "name": "3 - Hafta (Koşullu Durumlar, Döngüler)-checkpoint.ipynb",
      "provenance": [],
      "collapsed_sections": [],
      "include_colab_link": true
    }
  },
  "cells": [
    {
      "cell_type": "markdown",
      "metadata": {
        "id": "view-in-github",
        "colab_type": "text"
      },
      "source": [
        "<a href=\"https://colab.research.google.com/github/canererden/python-egitim/blob/master/3_Hafta_(Ko%C5%9Fullu_Durumlar%2C_D%C3%B6ng%C3%BCler)_checkpoint.ipynb\" target=\"_parent\"><img src=\"https://colab.research.google.com/assets/colab-badge.svg\" alt=\"Open In Colab\"/></a>"
      ]
    },
    {
      "cell_type": "markdown",
      "metadata": {
        "id": "CKzBkWzX0XGL",
        "colab_type": "text"
      },
      "source": [
        "# Koşullar"
      ]
    },
    {
      "cell_type": "markdown",
      "metadata": {
        "id": "Wjwzukrm0XGO",
        "colab_type": "text"
      },
      "source": [
        "### `bool`\n",
        "Doğru ve Yanlış değerleri için veri tipi"
      ]
    },
    {
      "cell_type": "code",
      "metadata": {
        "id": "qByeYxxA0XGO",
        "colab_type": "code",
        "colab": {
          "base_uri": "https://localhost:8080/",
          "height": 34
        },
        "outputId": "bd0f9652-133c-475c-c683-0d3065b44e33"
      },
      "source": [
        "print('True ve False Veri Tipi: {}'.format(type(True)))"
      ],
      "execution_count": 13,
      "outputs": [
        {
          "output_type": "stream",
          "text": [
            "True ve False Veri Tipi: <class 'bool'>\n"
          ],
          "name": "stdout"
        }
      ]
    },
    {
      "cell_type": "markdown",
      "metadata": {
        "id": "u9MXLOkj86H9",
        "colab_type": "text"
      },
      "source": [
        "0 Yanlış 1 Doğru değeri gönderir."
      ]
    },
    {
      "cell_type": "code",
      "metadata": {
        "id": "KFx39ZqE0XGR",
        "colab_type": "code",
        "colab": {
          "base_uri": "https://localhost:8080/",
          "height": 34
        },
        "outputId": "7040706d-6985-4cdd-b629-a5f2530fed10"
      },
      "source": [
        "print('0: {}, 1: {}'.format(bool(0), bool(1)))"
      ],
      "execution_count": 14,
      "outputs": [
        {
          "output_type": "stream",
          "text": [
            "0: False, 1: True\n"
          ],
          "name": "stdout"
        }
      ]
    },
    {
      "cell_type": "markdown",
      "metadata": {
        "id": "n3yyDiYl0XGj",
        "colab_type": "text"
      },
      "source": [
        "## `if`\n",
        "Koşullar için kullanılır. Eğer doğruysa yap demektir."
      ]
    },
    {
      "cell_type": "code",
      "metadata": {
        "id": "JC1JDPyU33Cu",
        "colab_type": "code",
        "colab": {
          "base_uri": "https://localhost:8080/",
          "height": 34
        },
        "outputId": "babb261a-b218-49ef-ce49-43b3c7e994c7"
      },
      "source": [
        "test_degeri = 0\n",
        "if test_degeri == 0: # True(1) ise içeri girer\n",
        "    print(\"Test değeri 0'a eşittir\")"
      ],
      "execution_count": 1,
      "outputs": [
        {
          "output_type": "stream",
          "text": [
            "Test değeri 0'a eşittir\n"
          ],
          "name": "stdout"
        }
      ]
    },
    {
      "cell_type": "code",
      "metadata": {
        "id": "ZVip1GtL0XGk",
        "colab_type": "code",
        "colab": {
          "base_uri": "https://localhost:8080/",
          "height": 34
        },
        "outputId": "e6b56ed9-665c-4de2-94d4-759399c6c27f"
      },
      "source": [
        "durum = True\n",
        "if durum:\n",
        "    print('durum True')\n",
        "    \n",
        "if not durum:\n",
        "    print('durum True değil')"
      ],
      "execution_count": 6,
      "outputs": [
        {
          "output_type": "stream",
          "text": [
            "durum True\n"
          ],
          "name": "stdout"
        }
      ]
    },
    {
      "cell_type": "markdown",
      "metadata": {
        "id": "yL2JX9pR0XGv",
        "colab_type": "text"
      },
      "source": [
        "## `if-elif-else`\n",
        "Birden fazla koşullu durum yazmak için"
      ]
    },
    {
      "cell_type": "code",
      "metadata": {
        "id": "hsIUMN400XGv",
        "colab_type": "code",
        "colab": {
          "base_uri": "https://localhost:8080/",
          "height": 51
        },
        "outputId": "b0235bef-42e6-4059-c0be-04ca54cc2c6c"
      },
      "source": [
        "puan = int(input(\"Sınav notunuzu giriniz: \"))\n",
        "if puan >= 90:\n",
        "    print('Alınan Not: AA')\n",
        "elif 90 > puan >= 85:\n",
        "    print('Alınan Not: BA')\n",
        "elif 85 > puan >= 80:\n",
        "    print('Alınan Not: BB')\n",
        "elif 80 > puan >= 75:\n",
        "    print('Alınan Not: CB')\n",
        "elif 75 > puan >= 70:\n",
        "    print('Alınan Not: CC')\n",
        "elif 70 > puan >= 65:\n",
        "    print('Alınan Not: DC')\n",
        "elif 65 > puan >= 60:\n",
        "    print('Alınan Not: DD')\n",
        "elif 60 > puan >= 50:\n",
        "    print('Alınan Not: FD')\n",
        "else:\n",
        "    print('Alınan Not: FF')"
      ],
      "execution_count": 9,
      "outputs": [
        {
          "output_type": "stream",
          "text": [
            "Sınav notunuzu giriniz: 80\n",
            "Alınan Not: BB\n"
          ],
          "name": "stdout"
        }
      ]
    },
    {
      "cell_type": "markdown",
      "metadata": {
        "id": "qGQlxqRu0XGT",
        "colab_type": "text"
      },
      "source": [
        "### `==, !=, >, <, >=, <=`\n",
        "İfadeler arasındaki ilişkiyi göstermek için"
      ]
    },
    {
      "cell_type": "code",
      "metadata": {
        "id": "w4BdBwht0XGU",
        "colab_type": "code",
        "colab": {}
      },
      "source": [
        "print('1 == 0: {}'.format(1 == 0))\n",
        "print('1 != 0: {}'.format(1 != 0))\n",
        "print('1 > 0: {}'.format(1 > 0))\n",
        "print('1 > 1: {}'.format(1 > 1))\n",
        "print('1 < 0: {}'.format(1 < 0))\n",
        "print('1 < 1: {}'.format(1 < 1))\n",
        "print('1 >= 0: {}'.format(1 >= 0))\n",
        "print('1 >= 1: {}'.format(1 >= 1))\n",
        "print('1 <= 0: {}'.format(1 <= 0))\n",
        "print('1 <= 1: {}'.format(1 <= 1))"
      ],
      "execution_count": 0,
      "outputs": []
    },
    {
      "cell_type": "code",
      "metadata": {
        "id": "P2uXoTYW0XGx",
        "colab_type": "code",
        "colab": {
          "base_uri": "https://localhost:8080/",
          "height": 34
        },
        "outputId": "72a84611-1239-4e6b-aa8c-9ad5eb54d9b2"
      },
      "source": [
        "selamlama = ''\n",
        "language = 'Turkish'\n",
        "\n",
        "if language == 'Swedish':\n",
        "    selamlama = 'Hejsan!'\n",
        "elif language == 'Finnish':\n",
        "    selamlama = 'Latua perkele!'\n",
        "elif language == 'Spanish':\n",
        "    selamlama = 'Hola!'\n",
        "elif language == 'German':\n",
        "    selamlama = 'Guten Tag!'\n",
        "elif language == 'Turkish':\n",
        "    selamlama = 'Merhaba'\n",
        "    \n",
        "print(selamlama)"
      ],
      "execution_count": 12,
      "outputs": [
        {
          "output_type": "stream",
          "text": [
            "Merhaba\n"
          ],
          "name": "stdout"
        }
      ]
    },
    {
      "cell_type": "markdown",
      "metadata": {
        "id": "fbgIPJ7O99YO",
        "colab_type": "text"
      },
      "source": [
        "### Beraber yapalım\n",
        "Kullanıcıdan kullanıcı adı ve şifresini soran ve kullanıcı adı: root şifre: 1234 olunca giriş başarılı, kullanıcı adı doğru şifre yanlışsa şifreyi yanlış girdiniz, kullanıcı adı yanlış şifre doğruysa kullanıcı adını yanlış girdiniz ikisi de yanlışsa kullanıcı adı ve şifreyi yanlış girdiniz yazdıralım."
      ]
    },
    {
      "cell_type": "markdown",
      "metadata": {
        "id": "xn_dGsP80XGY",
        "colab_type": "text"
      },
      "source": [
        "### `and, or, not`\n",
        "and: tüm durumlar sağlandığında  \n",
        "or: durumlardan birisi sağlandığında"
      ]
    },
    {
      "cell_type": "code",
      "metadata": {
        "id": "vPDMjK_U0XGZ",
        "colab_type": "code",
        "colab": {}
      },
      "source": [
        "python_is_cool = True\n",
        "java_is_cool = False\n",
        "empty_list = []\n",
        "secret_value = 3.14"
      ],
      "execution_count": 0,
      "outputs": []
    },
    {
      "cell_type": "code",
      "metadata": {
        "id": "CG5Fc4Bc0XGb",
        "colab_type": "code",
        "colab": {
          "base_uri": "https://localhost:8080/",
          "height": 51
        },
        "outputId": "c899dc94-0b0c-4199-ed9e-b1d03f0aded7"
      },
      "source": [
        "print('Python and java are both cool: {}'.format(python_is_cool and java_is_cool))\n",
        "print('secret_value and python_is_cool: {}'.format(secret_value and python_is_cool))"
      ],
      "execution_count": 16,
      "outputs": [
        {
          "output_type": "stream",
          "text": [
            "Python and java are both cool: False\n",
            "secret_value and python_is_cool: True\n"
          ],
          "name": "stdout"
        }
      ]
    },
    {
      "cell_type": "code",
      "metadata": {
        "id": "w9E5UTyK0XGd",
        "colab_type": "code",
        "colab": {
          "base_uri": "https://localhost:8080/",
          "height": 51
        },
        "outputId": "1cdcdb61-82f2-4b41-fbca-8ff21b88e82f"
      },
      "source": [
        "print('Python or java is cool: {}'.format(python_is_cool or java_is_cool))\n",
        "print('1 >= 1.1 or 2 < float(\"1.4\"): {}'.format(1 >= 1.1 or 2 < float('1.4')))"
      ],
      "execution_count": 17,
      "outputs": [
        {
          "output_type": "stream",
          "text": [
            "Python or java is cool: True\n",
            "1 >= 1.1 or 2 < float(\"1.4\"): False\n"
          ],
          "name": "stdout"
        }
      ]
    },
    {
      "cell_type": "code",
      "metadata": {
        "id": "Ej5KDtE90XGf",
        "colab_type": "code",
        "colab": {
          "base_uri": "https://localhost:8080/",
          "height": 34
        },
        "outputId": "b51f2a5c-6391-4592-83d3-82776cde7007"
      },
      "source": [
        "print('Java is not cool: {}'.format(not java_is_cool))"
      ],
      "execution_count": 19,
      "outputs": [
        {
          "output_type": "stream",
          "text": [
            "Java is not cool: True\n"
          ],
          "name": "stdout"
        }
      ]
    },
    {
      "cell_type": "code",
      "metadata": {
        "id": "9RsRI-Kv0XGh",
        "colab_type": "code",
        "colab": {
          "base_uri": "https://localhost:8080/",
          "height": 51
        },
        "outputId": "916064a7-5e37-4235-99f1-c276655460cb"
      },
      "source": [
        "print(bool(not java_is_cool or secret_value and  python_is_cool or empty_list))\n",
        "print(bool(not (java_is_cool or secret_value and  python_is_cool or empty_list)))"
      ],
      "execution_count": 20,
      "outputs": [
        {
          "output_type": "stream",
          "text": [
            "True\n",
            "False\n"
          ],
          "name": "stdout"
        }
      ]
    },
    {
      "cell_type": "markdown",
      "metadata": {
        "id": "blSOtruY0XGz",
        "colab_type": "text"
      },
      "source": [
        "Detaylı bilgi [tutorial from Real Python](https://realpython.com/python-conditional-statements/)."
      ]
    },
    {
      "cell_type": "markdown",
      "metadata": {
        "id": "DaF1kyJP0XG1",
        "colab_type": "text"
      },
      "source": [
        "# [`for` loops](https://docs.python.org/3/tutorial/controlflow.html#for-statements)"
      ]
    },
    {
      "cell_type": "code",
      "metadata": {
        "id": "m06xTVyk0XG2",
        "colab_type": "code",
        "colab": {}
      },
      "source": [
        ""
      ],
      "execution_count": 0,
      "outputs": []
    },
    {
      "cell_type": "markdown",
      "metadata": {
        "id": "qyrjRr0J0XG6",
        "colab_type": "text"
      },
      "source": [
        "## Listelerde döngüler"
      ]
    },
    {
      "cell_type": "code",
      "metadata": {
        "id": "Ol3Xt4FJ0XG7",
        "colab_type": "code",
        "colab": {}
      },
      "source": [
        "my_list = [1, 2, 3, 4, 'Python', 'is', 'neat']\n",
        "for item in my_list:\n",
        "    print(item)"
      ],
      "execution_count": 0,
      "outputs": []
    },
    {
      "cell_type": "markdown",
      "metadata": {
        "id": "tVxmfTW30XG-",
        "colab_type": "text"
      },
      "source": [
        "### `break`\n",
        "Döngüden çıkmak için"
      ]
    },
    {
      "cell_type": "code",
      "metadata": {
        "id": "4Eds-Scm0XG-",
        "colab_type": "code",
        "colab": {}
      },
      "source": [
        "for item in my_list:\n",
        "    if item == 'Python':\n",
        "        break\n",
        "    print(item)"
      ],
      "execution_count": 0,
      "outputs": []
    },
    {
      "cell_type": "markdown",
      "metadata": {
        "id": "xn-PnWGv0XG_",
        "colab_type": "text"
      },
      "source": [
        "### `continue`\n",
        "Bunu yapmadan devam et `continue`"
      ]
    },
    {
      "cell_type": "code",
      "metadata": {
        "id": "gjp_-z2R0XHA",
        "colab_type": "code",
        "colab": {}
      },
      "source": [
        "for item in my_list:\n",
        "    if item == 1:\n",
        "        continue\n",
        "    print(item)"
      ],
      "execution_count": 0,
      "outputs": []
    },
    {
      "cell_type": "markdown",
      "metadata": {
        "id": "yZiCmPuc0XHC",
        "colab_type": "text"
      },
      "source": [
        "### `enumerate()`\n",
        "Index değerleri ile birlikte yazdırır."
      ]
    },
    {
      "cell_type": "code",
      "metadata": {
        "id": "UMVTnh120XHC",
        "colab_type": "code",
        "colab": {}
      },
      "source": [
        "for idx, val in enumerate(my_list):\n",
        "    print('idx: {}, value: {}'.format(idx, val))"
      ],
      "execution_count": 0,
      "outputs": []
    },
    {
      "cell_type": "markdown",
      "metadata": {
        "id": "vVK2YVjn0XHH",
        "colab_type": "text"
      },
      "source": [
        "## `range()`"
      ]
    },
    {
      "cell_type": "code",
      "metadata": {
        "id": "clOWgypx0XHI",
        "colab_type": "code",
        "colab": {}
      },
      "source": [
        "for number in range(5):\n",
        "    print(number)"
      ],
      "execution_count": 0,
      "outputs": []
    },
    {
      "cell_type": "code",
      "metadata": {
        "id": "57-fW7el0XHJ",
        "colab_type": "code",
        "colab": {}
      },
      "source": [
        "for number in range(2, 5):\n",
        "    print(number)"
      ],
      "execution_count": 0,
      "outputs": []
    },
    {
      "cell_type": "code",
      "metadata": {
        "id": "5BBHSFrY0XHL",
        "colab_type": "code",
        "colab": {}
      },
      "source": [
        "for number in range(0, 10, 2):  \n",
        "    print(number)"
      ],
      "execution_count": 0,
      "outputs": []
    },
    {
      "cell_type": "code",
      "metadata": {
        "id": "RRSWMiuf0XHO",
        "colab_type": "code",
        "colab": {}
      },
      "source": [
        ""
      ],
      "execution_count": 0,
      "outputs": []
    }
  ]
}