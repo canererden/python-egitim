{
 "cells": [
  {
   "cell_type": "markdown",
   "execution_count": null,
   "metadata": {},
   "outputs": [],
   "source": [
    "os: işletim sistemi ile alakalı işlemler yapmak için kullanılır."
   ]
  },
  {
   "cell_type": "code",
   "metadata": {},
   "outputs": [],
   "source": [
    "import os"
   ]
  },
  {
   "cell_type": "code",
   "execution_count": 6,
   "metadata": {},
   "outputs": [
    {
     "name": "stdout",
     "output_type": "stream",
     "text": "g:\\Drive'ım\\my_scripts\\python-egitim\nnt\n\\\n"
    }
   ],
   "source": [
    "print(os.getcwd()) # çalışma klasörünü yazar\n",
    "print(os.name) # işletim sistemimizi yazar 'nt' windows\n",
    "print(os.sep) # dosya ayırıcısını yazar ('/, \\\\) vb"
   ]
  },
  {
   "cell_type": "code",
   "metadata": {},
   "outputs": [],
   "source": [
    "os.chdir() # çalışma klasörünü değiştirir"
   ]
  },
  {
   "cell_type": "code",
   "execution_count": 7,
   "metadata": {},
   "outputs": [
    {
     "data": {
      "text/plain": "['4 - Hafta (os, random, sys modülleri ve dosya işlemleri).ipynb',\n '3 - Hafta (Koşullu Durumlar, Döngüler).ipynb',\n '2 - Hafta (Fonksiyonlar, Modüller, Listeler).ipynb',\n '1 - Hafta (Giriş, Değişkenler, Aritmetik İşlemler).ipynb',\n 'jupyter-notebook.bw.pdf',\n 'conda-cheatsheet.pdf',\n '.git',\n 'katilimci_listesi.xlsx',\n '.ipynb_checkpoints',\n 'meyve.py',\n '__pycache__',\n '.vscode',\n 'Meyve1.py']"
     },
     "execution_count": 7,
     "metadata": {},
     "output_type": "execute_result"
    }
   ],
   "source": [
    "os.listdir() # klasördeki dosyaları yazdırır"
   ]
  },
  {
   "cell_type": "code",
   "execution_count": 9,
   "metadata": {},
   "outputs": [
    {
     "data": {
      "text/plain": "'.'"
     },
     "execution_count": 9,
     "metadata": {},
     "output_type": "execute_result"
    }
   ],
   "source": [
    "os.curdir #os.curdir, bir işletim sisteminde, o anda içinde bulunulan dizini temsil eden karakter dizisi ne ise onun değerini barındırır. Bu değer çoğu işletim sisteminde ‘.’ adlı karakter dizisidir"
   ]
  },
  {
   "cell_type": "code",
   "metadata": {},
   "outputs": [],
   "source": [
    "# os.startfile()\n",
    "print(\"\"\"os modülü içindeki startfile() adlı fonksiyonun görevi bilgisayarımızda bulunan herhangi\n",
    "bir dosyayı, ilişkilendirilmiş olduğu programla açmaktır.\"\"\")"
   ]
  },
  {
   "cell_type": "code",
   "metadata": {},
   "outputs": [],
   "source": [
    "# os.mkdir()\n",
    "print(\"\"\"os modülünün mkdir() fonksiyonu yeni dizinler oluşturabilmemizi sağlar.\"\"\")"
   ]
  },
  {
   "cell_type": "code",
   "metadata": {},
   "outputs": [],
   "source": [
    "import random # rastgele sayılar oluşturmak için kullanılır.\n",
    "print(random.randint(0,19))"
   ]
  },
  {
   "cell_type": "markdown",
   "metadata": {},
   "outputs": [],
   "source": [
    "[Python Standard Library](https://docs.python.org/3/library/#the-python-standard-library)\n",
    "Python yüklemesi ile gelen standard kütüphanelerdir"
   ]
  },
  {
   "cell_type": "markdown",
   "metadata": {},
   "outputs": [],
   "source": [
    "## [`datetime`](https://docs.python.org/3/library/datetime.html#module-datetime) zamanla işlem yapmak için"
   ]
  },
  {
   "cell_type": "code",
   "execution_count": 10,
   "metadata": {},
   "outputs": [
    {
     "name": "stdout",
     "output_type": "stream",
     "text": "local now: 2019-12-05 11:45:34.920393\nutc now: 2019-12-05 08:45:34.920393\n2019 12 5 11 45 34\ndate: 2019-12-05\ntime: 11:45:34.920393\n"
    }
   ],
   "source": [
    "import datetime as dt\n",
    "\n",
    "local_now = dt.datetime.now()\n",
    "print('local now: {}'.format(local_now))\n",
    "\n",
    "utc_now = dt.datetime.utcnow()\n",
    "print('utc now: {}'.format(utc_now))\n",
    "\n",
    "# You can access any value separately:\n",
    "print('{} {} {} {} {} {}'.format(local_now.year, local_now.month,\n",
    "                                 local_now.day, local_now.hour,\n",
    "                                 local_now.minute, local_now.second))\n",
    "\n",
    "print('date: {}'.format(local_now.date()))\n",
    "print('time: {}'.format(local_now.time()))"
   ]
  },
  {
   "cell_type": "markdown",
   "metadata": {},
   "outputs": [],
   "source": [
    "### `strftime()`\n",
    "`datetime` ı çevirmek için"
   ]
  },
  {
   "cell_type": "code",
   "execution_count": 11,
   "metadata": {},
   "outputs": [
    {
     "name": "stdout",
     "output_type": "stream",
     "text": "2019/12/05-11:45:34\ndate: 2019-12-05 time:11:45:34\n"
    }
   ],
   "source": [
    "formatted1 = local_now.strftime('%Y/%m/%d-%H:%M:%S')\n",
    "print(formatted1)\n",
    "\n",
    "formatted2 = local_now.strftime('date: %Y-%m-%d time:%H:%M:%S')\n",
    "print(formatted2)"
   ]
  },
  {
   "cell_type": "markdown",
   "metadata": {},
   "outputs": [],
   "source": [
    "### `strptime()`\n",
    "Stringi `datetime` objesine çevirmek için "
   ]
  },
  {
   "cell_type": "code",
   "execution_count": 12,
   "metadata": {},
   "outputs": [
    {
     "name": "stdout",
     "output_type": "stream",
     "text": "my_dt: 2000-01-01 10:00:00\n"
    }
   ],
   "source": [
    "my_dt = dt.datetime.strptime('2000-01-01 10:00:00', '%Y-%m-%d %H:%M:%S')\n",
    "print('my_dt: {}'.format(my_dt))"
   ]
  },
  {
   "cell_type": "markdown",
   "metadata": {},
   "outputs": [],
   "source": [
    "### [`timedelta`](https://docs.python.org/3/library/datetime.html#timedelta-objects)\n",
    "Tarih hesaplamaları yapmak için."
   ]
  },
  {
   "cell_type": "code",
   "execution_count": 16,
   "metadata": {},
   "outputs": [
    {
     "name": "stdout",
     "output_type": "stream",
     "text": "yarin : 2019-12-06 11:45:34.920393\nyarin - now = 1 day, 0:00:00\ngün: 1, saniye: 0\ntoplam saniye: 86400.0\n"
    }
   ],
   "source": [
    "yarin = local_now + dt.timedelta(days=1)\n",
    "print('yarin : {}'.format(tomorrow))\n",
    "\n",
    "delta = yarin - local_now\n",
    "print('yarin - now = {}'.format(delta))\n",
    "print('gün: {}, saniye: {}'.format(delta.days, delta.seconds))\n",
    "print('toplam saniye: {}'.format(delta.total_seconds()))"
   ]
  },
  {
   "cell_type": "markdown",
   "metadata": {},
   "outputs": [],
   "source": [
    "## [`random`](https://docs.python.org/3/library/random.html) rastgele sayı üretmek için"
   ]
  },
  {
   "cell_type": "code",
   "metadata": {},
   "outputs": [],
   "source": [
    "import random\n",
    "\n",
    "rand_int = random.randint(1, 100)\n",
    "print('1-100 arası rastgele sayılar: {}'.format(rand_int))\n",
    "\n",
    "rand = random.random()\n",
    "print('0-1 arası rastgele sayılar: {}'.format(rand))"
   ]
  },
  {
   "cell_type": "markdown",
   "metadata": {},
   "outputs": [],
   "source": [
    "`seed` değerini rastgele tutarak sürekli farklı sayı üretebiliriz. "
   ]
  },
  {
   "cell_type": "code",
   "execution_count": 14,
   "metadata": {},
   "outputs": [
    {
     "name": "stdout",
     "output_type": "stream",
     "text": "0.6229016948897019\n0.7417869892607294\n0.7951935655656966\n0.9424502837770503\n0.7398985747399307\n0.922324996665417\n0.029005228283614737\n0.46562265437810535\n0.9433567169983137\n0.6489745531369242\n"
    }
   ],
   "source": [
    "import random\n",
    "\n",
    "random.seed(5)  # seed i ayarla\n",
    "\n",
    "# 10 tane rastgele sayı yazdıralım\n",
    "for _ in range(10):\n",
    "    print(random.random())"
   ]
  },
  {
   "cell_type": "markdown",
   "metadata": {},
   "outputs": [],
   "source": [
    "## [`re`](https://docs.python.org/3/library/re.html#module-re) düzenli ifadeler için"
   ]
  },
  {
   "cell_type": "markdown",
   "metadata": {},
   "outputs": [],
   "source": [
    "### arama yapma"
   ]
  },
  {
   "cell_type": "code",
   "metadata": {},
   "outputs": [],
   "source": [
    "import re\n",
    "\n",
    "secret_code = 'qwret 8sfg12f5 fd09f_df'\n",
    "# \"r\" raw format demektir\n",
    "search_pattern = r'(g12)' \n",
    "\n",
    "match = re.search(search_pattern, secret_code)\n",
    "print('match: {}'.format(match))\n",
    "print('match.group(): {}'.format(match.group()))\n",
    "\n",
    "numbers_pattern = r'[0-9]'\n",
    "numbers_match = re.findall(numbers_pattern, secret_code)\n",
    "print('numbers: {}'.format(numbers_match))"
   ]
  },
  {
   "cell_type": "markdown",
   "metadata": {},
   "outputs": [],
   "source": [
    "### Doğrulama"
   ]
  },
  {
   "cell_type": "code",
   "metadata": {},
   "outputs": [],
   "source": [
    "import re\n",
    "\n",
    "def validate_only_lower_case_letters(to_validate):\n",
    "    pattern = r'^[a-z]+$'\n",
    "    return bool(re.match(pattern, to_validate))\n",
    "\n",
    "print(validate_only_lower_case_letters('thisshouldbeok'))\n",
    "print(validate_only_lower_case_letters('thisshould notbeok'))\n",
    "print(validate_only_lower_case_letters('Thisshouldnotbeok'))\n",
    "print(validate_only_lower_case_letters('thisshouldnotbeok1'))\n",
    "print(validate_only_lower_case_letters(''))"
   ]
  },
  {
   "cell_type": "code",
   "metadata": {},
   "outputs": [],
   "source": []
  },
  {
   "cell_type": "markdown",
   "metadata": {},
   "outputs": [],
   "source": [
    "# [File I/O](https://docs.python.org/3/tutorial/inputoutput.html#reading-and-writing-files)\n",
    "Dosyaya okuma ve yazma."
   ]
  },
  {
   "cell_type": "markdown",
   "metadata": {},
   "outputs": [],
   "source": [
    "## Dosya okuma"
   ]
  },
  {
   "cell_type": "code",
   "execution_count": 17,
   "metadata": {},
   "outputs": [
    {
     "ename": "FileNotFoundError",
     "evalue": "[Errno 2] No such file or directory: 'simple_file.txt'",
     "output_type": "error",
     "traceback": [
      "\u001b[1;31m---------------------------------------------------------------------------\u001b[0m",
      "\u001b[1;31mFileNotFoundError\u001b[0m                         Traceback (most recent call last)",
      "\u001b[1;32m<ipython-input-17-175fe7214ccd>\u001b[0m in \u001b[0;36m<module>\u001b[1;34m()\u001b[0m\n\u001b[1;32m----> 1\u001b[1;33m \u001b[1;32mwith\u001b[0m \u001b[0mopen\u001b[0m\u001b[1;33m(\u001b[0m\u001b[1;34m'simple_file.txt'\u001b[0m\u001b[1;33m,\u001b[0m \u001b[1;34m'r'\u001b[0m\u001b[1;33m)\u001b[0m \u001b[1;32mas\u001b[0m \u001b[0msimple_file\u001b[0m\u001b[1;33m:\u001b[0m\u001b[1;33m\u001b[0m\u001b[0m\n\u001b[0m\u001b[0;32m      2\u001b[0m     \u001b[1;32mfor\u001b[0m \u001b[0mline\u001b[0m \u001b[1;32min\u001b[0m \u001b[0msimple_file\u001b[0m\u001b[1;33m:\u001b[0m\u001b[1;33m\u001b[0m\u001b[0m\n\u001b[0;32m      3\u001b[0m         \u001b[0mprint\u001b[0m\u001b[1;33m(\u001b[0m\u001b[0mline\u001b[0m\u001b[1;33m.\u001b[0m\u001b[0mstrip\u001b[0m\u001b[1;33m(\u001b[0m\u001b[1;33m)\u001b[0m\u001b[1;33m)\u001b[0m\u001b[1;33m\u001b[0m\u001b[0m\n",
      "\u001b[1;31mFileNotFoundError\u001b[0m: [Errno 2] No such file or directory: 'simple_file.txt'"
     ]
    }
   ],
   "source": [
    "with open('simple_file.txt', 'r') as simple_file:\n",
    "    for line in simple_file:\n",
    "        print(line.strip())"
   ]
  },
  {
   "cell_type": "markdown",
   "metadata": {},
   "outputs": [],
   "source": [
    "## Dosyaya yazma"
   ]
  },
  {
   "cell_type": "code",
   "execution_count": 19,
   "metadata": {},
   "outputs": [],
   "source": [
    "with open(\"simple_file2.txt\", 'w') as my_file:\n",
    "    my_file.write('Merhaba.')"
   ]
  }
 ],
 "metadata": {
  "kernelspec": {
   "display_name": "Python 3",
   "language": "python",
   "name": "python3"
  },
  "language_info": {
   "codemirror_mode": {
    "name": "ipython",
    "version": 3
   },
   "file_extension": ".py",
   "mimetype": "text/x-python",
   "name": "python",
   "nbconvert_exporter": "python",
   "pygments_lexer": "ipython3",
   "version": "3.7.0"
  },
  "toc": {
   "base_numbering": 1,
   "nav_menu": {},
   "number_sections": true,
   "sideBar": true,
   "skip_h1_title": false,
   "title_cell": "Table of Contents",
   "title_sidebar": "Contents",
   "toc_cell": false,
   "toc_position": {},
   "toc_section_display": true,
   "toc_window_display": false
  }
 },
 "nbformat": 4,
 "nbformat_minor": 2
}