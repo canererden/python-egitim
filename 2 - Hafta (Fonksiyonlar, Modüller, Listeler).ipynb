{
 "cells": [
  {
   "cell_type": "markdown",
   "metadata": {},
   "source": [
    "# Fonksiyonlar\n",
    "\n",
    "Tekrarlı işler için kullanılır. Bir girdiyi istenilen şekilde çıktı haline getirir."
   ]
  },
  {
   "cell_type": "code",
   "execution_count": 2,
   "metadata": {},
   "outputs": [
    {
     "name": "stdout",
     "output_type": "stream",
     "text": "type: <function birinci_fonksiyonum at 0x000001FE9771D798>\nMerhaba Dünya!\n"
    }
   ],
   "source": [
    "def birinci_fonksiyonum():\n",
    "    print('Merhaba Dünya!')\n",
    "\n",
    "print('type: {}'.format(birinci_fonksiyonum))\n",
    "\n",
    "birinci_fonksiyonum()  # fonksiyonu çağır"
   ]
  },
  {
   "cell_type": "markdown",
   "metadata": {},
   "source": [
    "## Argümanlar\n",
    "\n",
    "Fonksiyonlara girdi olarak verilir."
   ]
  },
  {
   "cell_type": "code",
   "execution_count": 1,
   "metadata": {},
   "outputs": [
    {
     "name": "stdout",
     "output_type": "stream",
     "text": "Merhaba Caner ve Erden!\n"
    }
   ],
   "source": [
    "def selamla(isim1, isim2):\n",
    "    print('Merhaba {} ve {}!'.format(isim1, isim2))\n",
    "\n",
    "selamla('Caner', 'Erden')"
   ]
  },
  {
   "cell_type": "code",
   "execution_count": 4,
   "metadata": {},
   "outputs": [
    {
     "name": "stdout",
     "output_type": "stream",
     "text": "duzgun: merhaba dünya\n"
    }
   ],
   "source": [
    "# return değeri\n",
    "# Fonksiyonun döndüreceği değeri belirler.\n",
    "\n",
    "def kucuk_harf_yaz(original):\n",
    "    modified = original.strip().lower()\n",
    "    return modified\n",
    "\n",
    "bozuk_string = '  MeRhaBa DÜnYA  '\n",
    "duzgun = kucuk_harf_yaz(bozuk_string)\n",
    "print('duzgun: {}'.format(duzgun))"
   ]
  },
  {
   "cell_type": "markdown",
   "metadata": {},
   "source": [
    "### Keywordler\n",
    "Argümentlerin sabit olması durumu"
   ]
  },
  {
   "cell_type": "code",
   "execution_count": 10,
   "metadata": {},
   "outputs": [
    {
     "name": "stdout",
     "output_type": "stream",
     "text": [
      "4\n",
      "4\n",
      "4\n",
      "4\n"
     ]
    }
   ],
   "source": [
    "def toplama_cikarma(birinci, ikinci, ucuncu):\n",
    "    return birinci + ikinci - ucuncu \n",
    "\n",
    "print(toplama_cikarma(3, 2, 1))\n",
    "\n",
    "print(toplama_cikarma(birinci=3, ikinci=2, ucuncu=1))\n",
    "\n",
    "# karışık sırada\n",
    "print(toplama_cikarma(ucuncu=1, ikinci=3, birinci=2))\n",
    "\n",
    "# argüman ismini yazmadan da olur\n",
    "print(toplama_cikarma(3, ucuncu=1, ikinci=2))  "
   ]
  },
  {
   "cell_type": "markdown",
   "metadata": {},
   "source": [
    "### Docstrings\n",
    "Fonksiyonlar hakkında bilgi verilen yerdir. Örneğin hangi parametre ne işe yarıyor ve fonksiyonun özellikleri nelerdir gibi bilgiler burada verilir."
   ]
  },
  {
   "cell_type": "code",
   "execution_count": 7,
   "metadata": {},
   "outputs": [
    {
     "name": "stdout",
     "output_type": "stream",
     "text": "Help on function print_sum in module __main__:\n\nprint_sum(val1, val2)\n    Verilen iki değişkeni toplayan fonksiyon.\n\nNone\n"
    }
   ],
   "source": [
    "def print_sum(val1, val2):\n",
    "    \"\"\"Verilen iki değişkeni toplayan fonksiyon.\"\"\"\n",
    "    print('sum: {}'.format(val1 + val2))\n",
    "\n",
    "print(help(print_sum))"
   ]
  },
  {
   "cell_type": "code",
   "execution_count": 8,
   "metadata": {},
   "outputs": [
    {
     "name": "stdout",
     "output_type": "stream",
     "text": "Help on function calculate_sum in module __main__:\n\ncalculate_sum(val1, val2)\n    Verilen iki değeri toplar ve toplam değeri döndürür. \n    \n    Args:\n        val1: Birinci değer.\n        val2: İkinci değer.\n    \n    Returns:\n        val1 ve val2 değerlerinin toplamını döndürür.\n\nNone\n"
    }
   ],
   "source": [
    "def calculate_sum(val1, val2):\n",
    "    \"\"\"Verilen iki değeri toplar ve toplam değeri döndürür. \n",
    "\n",
    "    Args:\n",
    "        val1: Birinci değer.\n",
    "        val2: İkinci değer.\n",
    "\n",
    "    Returns:\n",
    "        val1 ve val2 değerlerinin toplamını döndürür.\n",
    "        \n",
    "    \"\"\"\n",
    "    return val1 + val2\n",
    "\n",
    "print(help(calculate_sum))"
   ]
  },
  {
   "cell_type": "markdown",
   "metadata": {},
   "source": [
    "### [`pass`](https://docs.python.org/3/reference/simple_stmts.html#the-pass-statement) statement\n",
    "`pass` ifadesi eğer fonksiyon bir şey yapmayacaksa kullanılır. Daha sonra doldurulmak üzere fonksiyona yazılabilir."
   ]
  },
  {
   "cell_type": "code",
   "execution_count": 9,
   "metadata": {},
   "outputs": [],
   "source": [
    "def my_function(some_argument):\n",
    "    pass\n",
    "\n",
    "def my_other_function():\n",
    "    pass"
   ]
  },
  {
   "cell_type": "markdown",
   "metadata": {},
   "source": [
    "# [Modules and packages](https://docs.python.org/3/tutorial/modules.html#modules)\n",
    "\n",
    "> Modül Python kaynak kodudur örneğin .py dosyası şeklinde kaydedilen kodlar bir modüldür. \n",
    "\n",
    "> Package ise `__init__.py` dosyasına sahip olan bir dizindir. İçerisinde çeşitli modüller ve diğer paketler bulunabilir. \n"
   ]
  },
  {
   "cell_type": "markdown",
   "metadata": {},
   "source": [
    "## Neden paket ve modüllere ihtiyaç duyarız?\n",
    "* Kodun bakım ve geliştirilmesi için\n",
    "* Tekrar kullanım için\n",
    "* İsim ve fonksiyonları ayrı yerde tutmak için\n",
    "* Bir sınıfı ya da fonksiyonu bulmak daha kolay olduğu için"
   ]
  },
  {
   "cell_type": "markdown",
   "metadata": {},
   "source": [
    "### Importing\n",
    "\n",
    "Elimizde `Meyve` isminde bir sınıf olsun ve bu sınıfı meyve.py dosyasında tutalım ve onu projemizde çalıştıralım. \n",
    "\n",
    "```python\n",
    "from meyve import Meyve\n",
    "\n",
    "# Kullanımı\n",
    "myve = Meyve()\n",
    "```\n"
   ]
  },
  {
   "cell_type": "code",
   "execution_count": 15,
   "metadata": {},
   "outputs": [],
   "source": [
    "myve = meyve.Meyve(\"Muz\", \"Sarı\")"
   ]
  },
  {
   "cell_type": "markdown",
   "metadata": {},
   "source": [
    "Modüller ile ilgili detaylı bilgiye şuradan ulaşabilirsiniz [here](https://realpython.com/python-modules-packages/)."
   ]
  },
  {
   "cell_type": "markdown",
   "metadata": {},
   "source": [
    "# [Lists](https://docs.python.org/3/library/stdtypes.html#lists)"
   ]
  },
  {
   "cell_type": "code",
   "execution_count": 16,
   "metadata": {},
   "outputs": [
    {
     "name": "stdout",
     "output_type": "stream",
     "text": "boş liste: [], type: <class 'list'>\n"
    }
   ],
   "source": [
    "bos_liste = []\n",
    "print('boş liste: {}, type: {}'.format(bos_liste, type(bos_liste)))"
   ]
  },
  {
   "cell_type": "code",
   "execution_count": 18,
   "metadata": {},
   "outputs": [
    {
     "name": "stdout",
     "output_type": "stream",
     "text": "uzunluk: 4 ve 6\n"
    }
   ],
   "source": [
    "sayi_listesi = [1, 2, 6, 7]\n",
    "karisik_liste = [0.2, 5, 'Mühendishane', 'Python', 'kursu', '!']\n",
    "print('uzunluk: {} ve {}'.format(len(sayi_listesi), len(karisik_liste)))"
   ]
  },
  {
   "cell_type": "markdown",
   "metadata": {},
   "source": [
    "## Değerlere ulaşım"
   ]
  },
  {
   "cell_type": "code",
   "execution_count": 20,
   "metadata": {},
   "outputs": [
    {
     "name": "stdout",
     "output_type": "stream",
     "text": "Mühendishane\nKursu\n"
    }
   ],
   "source": [
    "my_list = ['Mühendishane','Python', 'Kursu']\n",
    "print(my_list[0])\n",
    "print(my_list[2])"
   ]
  },
  {
   "cell_type": "code",
   "execution_count": 21,
   "metadata": {},
   "outputs": [
    {
     "name": "stdout",
     "output_type": "stream",
     "text": "birinci koordinatlar: [12.0, 13.3]\nikinci koordinatlar: 13.3\n"
    }
   ],
   "source": [
    "koordinatlar = [[12.0, 13.3], [0.6, 18.0], [88.0, 1.1]]  # iki boyutlu bir dizi\n",
    "print('birinci koordinatlar: {}'.format(koordinatlar[0]))\n",
    "print('ikinci koordinatlar: {}'.format(koordinatlar[0][1]))"
   ]
  },
  {
   "cell_type": "markdown",
   "metadata": {},
   "source": [
    "## Updating values"
   ]
  },
  {
   "cell_type": "code",
   "execution_count": 22,
   "metadata": {},
   "outputs": [
    {
     "name": "stdout",
     "output_type": "stream",
     "text": "[99, 1, 2, 3, 4, 5]\n[1, 2, 3, 4, 5]\n"
    }
   ],
   "source": [
    "my_list = [0, 1, 2, 3, 4, 5]\n",
    "my_list[0] = 99\n",
    "print(my_list)\n",
    "\n",
    "# birinci değeri kaldıralım\n",
    "del my_list[0]\n",
    "# kaldırdıktan sonra\n",
    "print(my_list)"
   ]
  },
  {
   "cell_type": "markdown",
   "metadata": {},
   "source": [
    "## Bir değer listenin içerisinde var mıdır?"
   ]
  },
  {
   "cell_type": "code",
   "execution_count": 23,
   "metadata": {},
   "outputs": [
    {
     "name": "stdout",
     "output_type": "stream",
     "text": "evet Python bulunmuştur!\n"
    }
   ],
   "source": [
    "yazilim_dilleri = ['Java', 'C++', 'Go', 'Python', 'JavaScript']\n",
    "if 'Python' in yazilim_dilleri:\n",
    "    print('evet Python bulunmuştur!')"
   ]
  },
  {
   "cell_type": "code",
   "execution_count": 24,
   "metadata": {},
   "outputs": [
    {
     "name": "stdout",
     "output_type": "stream",
     "text": "6 numarası yoktur!\n"
    }
   ],
   "source": [
    "if 6 not in [1, 2, 3, 7]:\n",
    "    print('6 numarası yoktur!')"
   ]
  },
  {
   "cell_type": "markdown",
   "metadata": {},
   "source": [
    "## Listeler değiştirilebiliyor"
   ]
  },
  {
   "cell_type": "code",
   "execution_count": 25,
   "metadata": {},
   "outputs": [
    {
     "name": "stdout",
     "output_type": "stream",
     "text": "original: [99, 2, 3], modified: [99, 2, 3]\n"
    }
   ],
   "source": [
    "original = [1, 2, 3]\n",
    "modified = original\n",
    "modified[0] = 99\n",
    "print('original: {}, modified: {}'.format(original, modified))"
   ]
  },
  {
   "cell_type": "markdown",
   "metadata": {},
   "source": [
    "list() fonksiyonu ile liste oluşturulabilir `list`:"
   ]
  },
  {
   "cell_type": "code",
   "execution_count": 26,
   "metadata": {},
   "outputs": [
    {
     "name": "stdout",
     "output_type": "stream",
     "text": "original: [1, 2, 3], modified: [99, 2, 3]\n"
    }
   ],
   "source": [
    "original = [1, 2, 3]\n",
    "modified = list(original)  # not listesi\n",
    "# Ya da liste metotlarını kullanabilirsiniz.\n",
    "# modified = original.copy()\n",
    "modified[0] = 99\n",
    "print('original: {}, modified: {}'.format(original, modified))"
   ]
  },
  {
   "cell_type": "markdown",
   "metadata": {},
   "source": [
    "## `list.append()`"
   ]
  },
  {
   "cell_type": "code",
   "execution_count": 27,
   "metadata": {},
   "outputs": [
    {
     "name": "stdout",
     "output_type": "stream",
     "text": "[1, 'ham']\n"
    }
   ],
   "source": [
    "my_list = [1]\n",
    "my_list.append('ham')\n",
    "print(my_list)"
   ]
  },
  {
   "cell_type": "markdown",
   "metadata": {},
   "source": [
    "## `list.remove()`"
   ]
  },
  {
   "cell_type": "code",
   "execution_count": 28,
   "metadata": {},
   "outputs": [
    {
     "name": "stdout",
     "output_type": "stream",
     "text": "['Mühendishane', 'Python', 'Eğitimine']\nJava bu listede yoktur.\n"
    }
   ],
   "source": [
    "my_list = ['Mühendishane', 'Python', 'Eğitimine', 'Hoşgeldiniz']\n",
    "my_list.remove('Hoşgeldiniz')\n",
    "print(my_list)\n",
    "\n",
    "# If you are not sure that the value is in list, better to check first:\n",
    "if 'Java' in my_list:\n",
    "    my_list.remove('Java')\n",
    "else:\n",
    "    print('Java bu listede yoktur.')"
   ]
  },
  {
   "cell_type": "markdown",
   "metadata": {},
   "source": [
    "## `list.sort()`"
   ]
  },
  {
   "cell_type": "code",
   "execution_count": 29,
   "metadata": {},
   "outputs": [
    {
     "name": "stdout",
     "output_type": "stream",
     "text": "numbers: [1, 5, 6, 8, 10]\nters çevrilen listeler: [10, 8, 6, 5, 1]\nwords: ['bir', 'bu', 'listesidir', 'yazi']\n"
    }
   ],
   "source": [
    "numbers = [8, 1, 6, 5, 10]\n",
    "numbers.sort()\n",
    "print('numbers: {}'.format(numbers))\n",
    "\n",
    "numbers.sort(reverse=True)\n",
    "print('ters çevrilen listeler: {}'.format(numbers))\n",
    "\n",
    "words = ['bu', 'bir', 'yazi', 'listesidir']\n",
    "words.sort()\n",
    "print('words: {}'.format(words))"
   ]
  },
  {
   "cell_type": "markdown",
   "metadata": {},
   "source": [
    "## `sorted(list)`\n",
    "While `list.sort()` sorts the list in-place, `sorted(list)` returns a new list and leaves the original untouched:"
   ]
  },
  {
   "cell_type": "code",
   "execution_count": 30,
   "metadata": {},
   "outputs": [
    {
     "name": "stdout",
     "output_type": "stream",
     "text": "numbers: [8, 1, 6, 5, 10], sorted: [1, 5, 6, 8, 10]\n"
    }
   ],
   "source": [
    "numbers = [8, 1, 6, 5, 10]\n",
    "sorted_numbers = sorted(numbers)\n",
    "print('numbers: {}, sorted: {}'.format(numbers, sorted_numbers))"
   ]
  },
  {
   "cell_type": "markdown",
   "metadata": {},
   "source": [
    "## `list.extend()`"
   ]
  },
  {
   "cell_type": "code",
   "execution_count": 32,
   "metadata": {},
   "outputs": [
    {
     "name": "stdout",
     "output_type": "stream",
     "text": "birinci: ['et', 'tavuk', 'patatesler', 1, 3], ikinci: ['patatesler', 1, 3]\n"
    }
   ],
   "source": [
    "first_list = ['et', 'tavuk']\n",
    "second_list = ['patatesler',1 ,3]\n",
    "first_list.extend(second_list)\n",
    "print('birinci: {}, ikinci: {}'.format(first_list, second_list))"
   ]
  },
  {
   "cell_type": "markdown",
   "metadata": {},
   "source": [
    "Veya extend metoduyla listeye ekleme yapabilirsiniz:"
   ]
  },
  {
   "cell_type": "code",
   "execution_count": null,
   "metadata": {},
   "outputs": [],
   "source": [
    "first = [1, 2, 3]\n",
    "second = [4, 5]\n",
    "first += second  # same as: first = first + second\n",
    "print('first: {}'.format(first))\n",
    "\n",
    "# If you need a new list\n",
    "summed = first + second\n",
    "print('summed: {}'.format(summed))"
   ]
  },
  {
   "cell_type": "markdown",
   "metadata": {},
   "source": [
    "## `list.reverse()`"
   ]
  },
  {
   "cell_type": "code",
   "execution_count": 33,
   "metadata": {},
   "outputs": [
    {
     "name": "stdout",
     "output_type": "stream",
     "text": "['et', 'b', 'a']\n"
    }
   ],
   "source": [
    "my_list = ['a', 'b', 'et']\n",
    "my_list.reverse()\n",
    "print(my_list)"
   ]
  },
  {
   "cell_type": "code",
   "execution_count": null,
   "metadata": {},
   "outputs": [],
   "source": []
  }
 ],
 "metadata": {
  "kernelspec": {
   "display_name": "Python 3",
   "language": "python",
   "name": "python3"
  },
  "language_info": {
   "codemirror_mode": {
    "name": "ipython",
    "version": 3
   },
   "file_extension": ".py",
   "mimetype": "text/x-python",
   "name": "python",
   "nbconvert_exporter": "python",
   "pygments_lexer": "ipython3",
   "version": "3.7.5"
  },
  "toc": {
   "base_numbering": 1,
   "nav_menu": {},
   "number_sections": true,
   "sideBar": true,
   "skip_h1_title": false,
   "title_cell": "Table of Contents",
   "title_sidebar": "Contents",
   "toc_cell": false,
   "toc_position": {},
   "toc_section_display": true,
   "toc_window_display": false
  }
 },
 "nbformat": 4,
 "nbformat_minor": 2
}