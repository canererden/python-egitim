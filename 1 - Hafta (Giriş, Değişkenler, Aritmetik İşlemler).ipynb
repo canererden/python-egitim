{
 "cells": [
  {
   "cell_type": "markdown",
   "metadata": {
    "slideshow": {
     "slide_type": "slide"
    }
   },
   "source": [
    "# Mühendishane Temel Python Eğitim Kursu\n",
    "\n",
    "Mühendishane öğrencilerine özel bu kurs sayesinde bilgisayar programlamaya temel seviyede başlamak için gerekli bilgileri öğrenebilirsiniz. Kurstan sonra kendinizi geliştirerek daha profesyonel kodlar geliştirebilir ve kendi uygulamalarınızı yazabilirsiniz. Burada anlatılanlar sadece bir giriş anlamı taşıyacak ve daha ileri seviye programlar için sizin çabalarınız belirleyici olacaktır. Kurs boyunca kodları interaktif olarak birlikte yazacağız. Çünkü program yazma ancak ve ancak yazarak öğrenilebilir. \n",
    "\n",
    "\n",
    "## Kimler için?\n",
    "\n",
    "Bu eğitim hiç bilgisayar programlama çalışması yapmamış kişiler için hazırlanmıştır. Eğer daha önce bir eğitiminiz varsa ya da program geliştirdiyseniz bu eğitim sizin için basit kalabilir."
   ]
  },
  {
   "cell_type": "markdown",
   "metadata": {
    "slideshow": {
     "slide_type": "subslide"
    }
   },
   "source": [
    "## Ben Kimim?\n",
    "\n",
    "Ben Caner Erden [linkten]( http://canererden.com/cv/ ) cv'me ulaşabilirsiniz. İlgi alanlarım makine çizelgeleme, sezgisel algoritmalar ve yapay zeka uygulamalarıdır. Programcılığa lisans dönemimde ilgi duymama rağmen önemli programlama çalışmalarıma doktora teziyle başladım. Doktora tezini yazarken tanıştığım Python programlama diliyle birçok akademik ve ofis işimi yapabiliyorum. Bu eğitimdeki içerik ve metotlar kendi tecrübelerimden yola çıkılarak hazırlanmıştır.\n",
    "\n",
    "## Bu kursta neler öğreneceğiz?\n",
    "\n",
    "Bu kursta öğrenmek isteyen herkese Python bilgisayar programlama dilinin temeli öğretilmeye çalışılacak. Merak etmeyin bu temel eğitim aşaması zor bir şey değil. Yeterli dikkat ve emekle herkesin üstesinden gelebileceği bir şey. Tabii her konuda olduğu gibi programcılık da derya deniz bir konu. Aranızda çok karmaşık yapıları, mühendislik problemlerini çözmeye aday kişiler de olabilir. Ancak bu kursta basit yapıda programlar geliştirilecek. Devamı için kendini geliştirmek isteyenlere yardımcı olabilirim ama bu kursta giriş seviyesinde bir yerde bitireceğiz.    \n",
    "\n",
    "**Eğer çok ve verimli çalışırsanız, zaman ayırırsanız kodlama ile akademik hayatınızdaki birçok probleminizi çözebilirsiniz.**    \n",
    "\n",
    "Temel Python öğreniminin günde 2 saatten 3 ay çalışma gerektirdiği söylenir. Eğer bir alanda örneğin internet programcılığı alanında uzmanlaşmak istiyorsanız artı olarak HTML, CSS, Javascript ve Django gibi bilgileri de edinmeniz gerekir. Bu da 6 aylık bir çalışmaya daha ihtiyacınız var demektir.  "
   ]
  },
  {
   "cell_type": "markdown",
   "metadata": {
    "slideshow": {
     "slide_type": "subslide"
    }
   },
   "source": [
    "## Konular\n",
    "\n",
    "Kurs haftada 2 saat ve toplam 4 hafta olarak planlanmıştır. Kurs içeriği aşağıda verilmiştir. \n",
    "\n",
    "- 1. Hafta\n",
    "     1. Giriş\n",
    "     2. Gömülü Fonksiyonlar (print(), input(), type())\n",
    "     3. Değişkenler (int, float, string)\n",
    "     4. Aritmetik İşlemler (toplama, çıkarma, çarpma, bölme, üs alma vb.)\n",
    "\n",
    "- 2. Hafta\n",
    "     1. Fonksiyonlar\n",
    "     2. Modüller, Paketler\n",
    "     3. Listeler\n",
    "     4. Sözlükler\n",
    "     5. Kümeler\n",
    "\n",
    "- 3. Hafta\n",
    "\n",
    "     1. Koşullu durumlar\n",
    "     2. Döngüler\n",
    "     3. Temel paketler\n",
    "        1. os, random, sys, datetime\n",
    "\n",
    "     4. Dosya işlemleri\n",
    "\n",
    "- 4. Hafta\n",
    "     1. Veri Bilimi\n",
    "     2. Numpy\n",
    "     3. Pandas\n",
    "     4. Matplotlib\n",
    "     5. Uygulama (Regresyon analizi)"
   ]
  },
  {
   "cell_type": "markdown",
   "metadata": {
    "slideshow": {
     "slide_type": "slide"
    }
   },
   "source": [
    "# Python\n",
    "\n",
    " Python birçok programlama alanında kullanabileceğiniz genel  amaçlı(Masaüstü, Web, Mobil ortamlar) nesne yönelimli bir programlama  dilidir. Diğer popüler programlama dillerinden farklı olarak  yorumlanabilir bir programlama dilidir. Yani bir derleyiciye ihtiyaç  duymaz.  \n",
    "\n",
    "## Neden Python\n",
    "\n",
    "1. Öğrenmesi, okuması, yazması diğerlerine göre daha kolay\n",
    "2. Popüler\n",
    "Python'un diğer programlama dilleri ile olan konumu için [videoyu](https://www.youtube.com/embed/cKzP61Gjf00) izleyebiliriz.\n",
    "\n",
    "3. Ücretsizdir\n",
    "4. Önemli şirketler kullanıyor ve destekliyor (Dropbox, Instagram, Google vb.)\n",
    "5. Birçok alanda kullanılabilir\n",
    "    - Yapay Zeka (Scikit-Learn, Keras, TensorFlow, Caffe)\n",
    "    - Veri Bilimi (Numpy ,SciPy, Matplotlib, Pandas)\n",
    "    - Robotik (rasperry pi)\n",
    "    - Web Programlama (Django ve Flask)\n",
    "    - Oyun Programlama (PyGame)\n",
    "    - Mobil Uygulama ((Kivy)\n",
    "    - Arayüz Programları (PyQt, PyGTK, Tkinter, wxPython)\n",
    "    - Örümcek yazılımlar (Scrapy, Requests, Beatifulsoup)\n",
    "    - Veri madenciliği(Numpy ,SciPy, Matplotlib, Pandas vb.)\n",
    "    - Blockchain"
   ]
  },
  {
   "cell_type": "markdown",
   "metadata": {
    "slideshow": {
     "slide_type": "subslide"
    }
   },
   "source": [
    "## Öğrenme Kaynakları\n",
    "\n",
    "Aşağıdakiler sadece örnektir. İnternette bir dünya kaynak bulabilirsiniz.\n",
    "\n",
    "1. Turkce kaynak\n",
    "   - [istihza](https://belgeler.yazbel.com/python-istihza/)\n",
    "2. Yabancı kaynak \n",
    "   - Learn Python Hard Way\n",
    "   - YouTube kanalları\n",
    "     - Sendex\n",
    "     - Techwithtim\n",
    "   - Sayfalar\n",
    "     - Towardsdatascience\n",
    "     - Realpython\n",
    "     - Python everywhere\n",
    "\n",
    "## Python Soruları nasıl, nerede sorulur?  \n",
    "\n",
    "Soru Sorulabilecek Sayfalar:\n",
    "1. [Stackoverflow ](https://stackoverflow.com/)\n",
    "2. [Github](https://github.com/)\n",
    "3. [Python forum](https://www.python.org/community/forums/)\n",
    "4. [Google Groups](https://groups.google.com/forum/#!forum/python-ideas)\n",
    "5. [Paket dokümantasyonları](https://docs.scipy.org/doc/numpy/reference/)\n",
    "6. [Facebook, Twitter, Linkedin vb sosyal medyalar!]"
   ]
  },
  {
   "cell_type": "markdown",
   "metadata": {
    "slideshow": {
     "slide_type": "subslide"
    }
   },
   "source": [
    "## Python Kurulumu\n",
    "\n",
    "Çalışmaya başlamak için Anaconda yeterli. Eğitime gelmeden önce, bilgisayarınıza  [Anaconda](https://www.anaconda.com/distribution/) Python 3.7 versiyon dağıtımını yükleyiniz. Arzu eden Anaconda dışında kendi çalışma ortamını oluşturabilir. [Kurulum için](https://problemsolvingwithpython.com/01-Orientation/01.03-Installing-Anaconda-on-Windows/)\n",
    "\n",
    "Çalışma Ortamı tavsiyeleri:  \n",
    "\n",
    "1. Jupyter (Interactive Code Editor)\n",
    "2. Visual Studio Code (Editor)\n",
    "3. Pycharm (IDE)\n",
    "4. Atom  (Editor)\n",
    "5. Sublime Text (Editor)\n",
    "6. Kaggle (Online)\n",
    "7. Google Colab (Online)\n",
    "8. Spyder (IDE)\n",
    "  \n",
    "\n",
    "### Jupyter Hakkında\n",
    "\n",
    "Hem notlarınızı hem de kodlarınızı bir arada tutmak için kullanabileceğiniz en başarılı araçlardan birisidir. Bu alanda kendisini kanıtlamıştır ve birçok geliştirici tarafından kullanılmaktadır. Genellikle veri bilimi konusunda çalışanlar tarafından tercih edilmektedir. \n",
    "\n",
    "Bu kursta kullanılıcak araçlardan birisi de Jupyter Notebook'lardır. Kodları burada geliştirebilir ve sonuçları buradan takip edebiliriz.\n",
    "\n",
    "Jupyter programını açmak için Anaconda programını kurduktan sonra Başlat >> Anaconda3 >> Jupyter Programına tıklayınız. Çalışma klasörünü seçtikten sonra bir python 3 dosyası oluşturunuz. \n",
    "\n",
    "**Artık kod yazmaya başlayabiliriz.** "
   ]
  },
  {
   "cell_type": "markdown",
   "metadata": {
    "slideshow": {
     "slide_type": "slide"
    }
   },
   "source": [
    "# Gömülü Fonksiyonlar\n",
    "Python kurulumu ile birlikte gelen ve sonradan kurmanıza gerek kalmayan fonksiyonlardır. Örnekler aşağıdadır.\n",
    "## Print Fonksiyonu\n",
    "\n",
    "print() fonksiyonu içerisine yazılan bilgiyi ekrana yazdırır.\n"
   ]
  },
  {
   "cell_type": "code",
   "execution_count": 1,
   "metadata": {
    "slideshow": {
     "slide_type": "slide"
    }
   },
   "outputs": [
    {
     "name": "stdout",
     "output_type": "stream",
     "text": [
      "Mühendishane\n",
      "o----\n",
      "**********\n"
     ]
    }
   ],
   "source": [
    "print(\"Mühendishane\")\n",
    "print(\"o----\")\n",
    "print(\"*\"*10)"
   ]
  },
  {
   "cell_type": "code",
   "execution_count": 4,
   "metadata": {},
   "outputs": [
    {
     "name": "stdout",
     "output_type": "stream",
     "text": [
      "Help on built-in function print in module builtins:\n",
      "\n",
      "print(...)\n",
      "    print(value, ..., sep=' ', end='\\n', file=sys.stdout, flush=False)\n",
      "    \n",
      "    Prints the values to a stream, or to sys.stdout by default.\n",
      "    Optional keyword arguments:\n",
      "    file:  a file-like object (stream); defaults to the current sys.stdout.\n",
      "    sep:   string inserted between values, default a space.\n",
      "    end:   string appended after the last value, default a newline.\n",
      "    flush: whether to forcibly flush the stream.\n",
      "\n"
     ]
    }
   ],
   "source": [
    "help(print)"
   ]
  },
  {
   "cell_type": "markdown",
   "metadata": {},
   "source": [
    "**\\n karakteri**  \n",
    "Alt satırdan ekrana yazdırır"
   ]
  },
  {
   "cell_type": "code",
   "execution_count": null,
   "metadata": {},
   "outputs": [],
   "source": [
    "print(\"Mühendishane\\nPython\\nEğtimine\\nHoşgeldiniz\")"
   ]
  },
  {
   "cell_type": "markdown",
   "metadata": {},
   "source": [
    "**\\t karakteri**  \n",
    "bir tab boşluk bırakarak ekrana yazdırır"
   ]
  },
  {
   "cell_type": "code",
   "execution_count": null,
   "metadata": {},
   "outputs": [],
   "source": [
    "print(\"Mühendishane\\tPython\\tEğtimine\\tHoşgeldiniz\")"
   ]
  },
  {
   "cell_type": "markdown",
   "metadata": {},
   "source": [
    "**sep parametresi**  \n",
    "değerlerin arasına istediğimiz karakteri yazdırabiliriz."
   ]
  },
  {
   "cell_type": "code",
   "execution_count": 5,
   "metadata": {},
   "outputs": [
    {
     "name": "stdout",
     "output_type": "stream",
     "text": [
      "Mühendishane-Python-Eğitimi\n"
     ]
    }
   ],
   "source": [
    "print(\"Mühendishane\", \"Python\", \"Eğitimi\", sep = \"-\")"
   ]
  },
  {
   "cell_type": "markdown",
   "metadata": {
    "slideshow": {
     "slide_type": "subslide"
    }
   },
   "source": [
    "### Format Print()\n",
    "\"Mehmet Yılmaz\" isminde bir hastanın bilgilerini ekrana yazdıralım"
   ]
  },
  {
   "cell_type": "code",
   "execution_count": 6,
   "metadata": {
    "slideshow": {
     "slide_type": "subslide"
    }
   },
   "outputs": [
    {
     "name": "stdout",
     "output_type": "stream",
     "text": [
      "Bugün hastaneye Mehmet Yılmaz isminde 30 yaşında bir hasta gelmiştir\n"
     ]
    }
   ],
   "source": [
    "print(\"Bugün hastaneye {} isminde {} yaşında bir hasta gelmiştir\".format(\"Mehmet Yılmaz\",30))"
   ]
  },
  {
   "cell_type": "code",
   "execution_count": 9,
   "metadata": {
    "scrolled": true,
    "slideshow": {
     "slide_type": "subslide"
    }
   },
   "outputs": [
    {
     "name": "stdout",
     "output_type": "stream",
     "text": [
      "Hastanın 37.6 derece ateşi vardır\n"
     ]
    }
   ],
   "source": [
    "print(\"Hastanın {} derece ateşi vardır\".format(37.6))"
   ]
  },
  {
   "cell_type": "markdown",
   "metadata": {
    "slideshow": {
     "slide_type": "slide"
    }
   },
   "source": [
    "## Input() Fonksiyonu\n",
    "Kullanıcıdan veri almak için kullanılır."
   ]
  },
  {
   "cell_type": "code",
   "execution_count": 11,
   "metadata": {
    "slideshow": {
     "slide_type": "subslide"
    }
   },
   "outputs": [
    {
     "name": "stdout",
     "output_type": "stream",
     "text": [
      "isminiz nedir? Caner\n",
      "Merhaba Caner\n"
     ]
    }
   ],
   "source": [
    "isim = input(\"isminiz nedir? \")\n",
    "# + işareti birleştirmek için (boşluk bırakmaz)\n",
    "print(\"Merhaba \" + isim)"
   ]
  },
  {
   "cell_type": "code",
   "execution_count": 13,
   "metadata": {
    "slideshow": {
     "slide_type": "subslide"
    }
   },
   "outputs": [
    {
     "name": "stdout",
     "output_type": "stream",
     "text": [
      "Yaşınız kaç? 30\n",
      "Caner 30 yaşındadır\n"
     ]
    }
   ],
   "source": [
    "yas = input(\"Yaşınız kaç? \")\n",
    "# , işareti de birleştirme için kullanılır arada boşluk vardır.\n",
    "print(isim, yas, \"yaşındadır.\")"
   ]
  },
  {
   "cell_type": "markdown",
   "metadata": {
    "slideshow": {
     "slide_type": "subslide"
    }
   },
   "source": [
    "### Yaş hesaplama\n",
    "Girilen yıla göre yaş hesaplama"
   ]
  },
  {
   "cell_type": "code",
   "execution_count": 14,
   "metadata": {
    "slideshow": {
     "slide_type": "subslide"
    }
   },
   "outputs": [
    {
     "name": "stdout",
     "output_type": "stream",
     "text": [
      "Doğum yılınızı giriniz >> 1989\n"
     ]
    },
    {
     "ename": "TypeError",
     "evalue": "unsupported operand type(s) for -: 'int' and 'str'",
     "output_type": "error",
     "traceback": [
      "\u001b[1;31m---------------------------------------------------------------------------\u001b[0m",
      "\u001b[1;31mTypeError\u001b[0m                                 Traceback (most recent call last)",
      "\u001b[1;32m<ipython-input-14-67f3278fc076>\u001b[0m in \u001b[0;36m<module>\u001b[1;34m\u001b[0m\n\u001b[0;32m      1\u001b[0m \u001b[0mdogum_yili\u001b[0m \u001b[1;33m=\u001b[0m \u001b[0minput\u001b[0m\u001b[1;33m(\u001b[0m\u001b[1;34m\"Doğum yılınızı giriniz >> \"\u001b[0m\u001b[1;33m)\u001b[0m\u001b[1;33m\u001b[0m\u001b[1;33m\u001b[0m\u001b[0m\n\u001b[1;32m----> 2\u001b[1;33m \u001b[0myas\u001b[0m \u001b[1;33m=\u001b[0m \u001b[1;36m2019\u001b[0m \u001b[1;33m-\u001b[0m \u001b[0mdogum_yili\u001b[0m\u001b[1;33m+\u001b[0m\u001b[1;36m1\u001b[0m\u001b[1;33m\u001b[0m\u001b[1;33m\u001b[0m\u001b[0m\n\u001b[0m\u001b[0;32m      3\u001b[0m \u001b[0mprint\u001b[0m\u001b[1;33m(\u001b[0m\u001b[1;34m\"Yaşınız \"\u001b[0m\u001b[1;33m,\u001b[0m \u001b[0myas\u001b[0m\u001b[1;33m)\u001b[0m\u001b[1;33m\u001b[0m\u001b[1;33m\u001b[0m\u001b[0m\n",
      "\u001b[1;31mTypeError\u001b[0m: unsupported operand type(s) for -: 'int' and 'str'"
     ]
    }
   ],
   "source": [
    "dogum_yili = input(\"Doğum yılınızı giriniz >> \")\n",
    "yas = 2019 - dogum_yili\n",
    "print(\"Yaşınız \", yas)"
   ]
  },
  {
   "cell_type": "markdown",
   "metadata": {
    "slideshow": {
     "slide_type": "subslide"
    }
   },
   "source": [
    "### Değişken dönüşümü\n",
    "input her değişkeni str olarak alır. Bu nedenle değişken dönüşümü yapmamız gerekir.\n",
    "int() fonksiyonu tam sayıya çevirir.  \n",
    "float() küsuratlı, str() metin e çevirir"
   ]
  },
  {
   "cell_type": "code",
   "execution_count": 16,
   "metadata": {
    "slideshow": {
     "slide_type": "subslide"
    }
   },
   "outputs": [
    {
     "name": "stdout",
     "output_type": "stream",
     "text": [
      "Yaşınız  30\n"
     ]
    }
   ],
   "source": [
    "dogum_yili = int(dogum_yili)\n",
    "yas = 2019 - dogum_yili\n",
    "print(\"Yaşınız \", yas)"
   ]
  },
  {
   "cell_type": "code",
   "execution_count": 17,
   "metadata": {
    "slideshow": {
     "slide_type": "subslide"
    }
   },
   "outputs": [
    {
     "name": "stdout",
     "output_type": "stream",
     "text": [
      "Doğum yılınızı giriniz >> 1989\n",
      "yasiniz 30\n"
     ]
    }
   ],
   "source": [
    "dogum_yili = int(input(\"Doğum yılınızı giriniz >> \"))\n",
    "print(\"yasiniz\", 2019-dogum_yili)"
   ]
  },
  {
   "cell_type": "markdown",
   "metadata": {
    "slideshow": {
     "slide_type": "subslide"
    }
   },
   "source": [
    "### TL Dolar dönüşümü"
   ]
  },
  {
   "cell_type": "code",
   "execution_count": 21,
   "metadata": {
    "scrolled": true,
    "slideshow": {
     "slide_type": "subslide"
    }
   },
   "outputs": [
    {
     "name": "stdout",
     "output_type": "stream",
     "text": [
      "Elinizdeki TL miktarını giriniz\t\t: 20\n",
      "Elinizdeki TL'nin Dolar karşılığı\t: 4.0\n"
     ]
    }
   ],
   "source": [
    "TL_miktar = float(input(\"Elinizdeki TL miktarını giriniz\\t\\t: \"))\n",
    "dolar_miktari = TL_miktar*0.2\n",
    "print(\"Elinizdeki TL'nin Dolar karşılığı\\t:\", dolar_miktari)"
   ]
  },
  {
   "cell_type": "markdown",
   "metadata": {
    "slideshow": {
     "slide_type": "slide"
    }
   },
   "source": [
    "## Değişkenler\n",
    "### integer\n",
    "Tam sayılar"
   ]
  },
  {
   "cell_type": "code",
   "execution_count": 22,
   "metadata": {
    "slideshow": {
     "slide_type": "subslide"
    }
   },
   "outputs": [
    {
     "name": "stdout",
     "output_type": "stream",
     "text": [
      "10\n",
      "<class 'int'>\n"
     ]
    }
   ],
   "source": [
    "yas = 10\n",
    "print(yas)\n",
    "print(type(yas))"
   ]
  },
  {
   "cell_type": "code",
   "execution_count": 24,
   "metadata": {},
   "outputs": [
    {
     "name": "stdout",
     "output_type": "stream",
     "text": [
      "Help on class int in module builtins:\n",
      "\n",
      "class int(object)\n",
      " |  int([x]) -> integer\n",
      " |  int(x, base=10) -> integer\n",
      " |  \n",
      " |  Convert a number or string to an integer, or return 0 if no arguments\n",
      " |  are given.  If x is a number, return x.__int__().  For floating point\n",
      " |  numbers, this truncates towards zero.\n",
      " |  \n",
      " |  If x is not a number or if base is given, then x must be a string,\n",
      " |  bytes, or bytearray instance representing an integer literal in the\n",
      " |  given base.  The literal can be preceded by '+' or '-' and be surrounded\n",
      " |  by whitespace.  The base defaults to 10.  Valid bases are 0 and 2-36.\n",
      " |  Base 0 means to interpret the base from the string as an integer literal.\n",
      " |  >>> int('0b100', base=0)\n",
      " |  4\n",
      " |  \n",
      " |  Methods defined here:\n",
      " |  \n",
      " |  __abs__(self, /)\n",
      " |      abs(self)\n",
      " |  \n",
      " |  __add__(self, value, /)\n",
      " |      Return self+value.\n",
      " |  \n",
      " |  __and__(self, value, /)\n",
      " |      Return self&value.\n",
      " |  \n",
      " |  __bool__(self, /)\n",
      " |      self != 0\n",
      " |  \n",
      " |  __ceil__(...)\n",
      " |      Ceiling of an Integral returns itself.\n",
      " |  \n",
      " |  __divmod__(self, value, /)\n",
      " |      Return divmod(self, value).\n",
      " |  \n",
      " |  __eq__(self, value, /)\n",
      " |      Return self==value.\n",
      " |  \n",
      " |  __float__(self, /)\n",
      " |      float(self)\n",
      " |  \n",
      " |  __floor__(...)\n",
      " |      Flooring an Integral returns itself.\n",
      " |  \n",
      " |  __floordiv__(self, value, /)\n",
      " |      Return self//value.\n",
      " |  \n",
      " |  __format__(self, format_spec, /)\n",
      " |      Default object formatter.\n",
      " |  \n",
      " |  __ge__(self, value, /)\n",
      " |      Return self>=value.\n",
      " |  \n",
      " |  __getattribute__(self, name, /)\n",
      " |      Return getattr(self, name).\n",
      " |  \n",
      " |  __getnewargs__(self, /)\n",
      " |  \n",
      " |  __gt__(self, value, /)\n",
      " |      Return self>value.\n",
      " |  \n",
      " |  __hash__(self, /)\n",
      " |      Return hash(self).\n",
      " |  \n",
      " |  __index__(self, /)\n",
      " |      Return self converted to an integer, if self is suitable for use as an index into a list.\n",
      " |  \n",
      " |  __int__(self, /)\n",
      " |      int(self)\n",
      " |  \n",
      " |  __invert__(self, /)\n",
      " |      ~self\n",
      " |  \n",
      " |  __le__(self, value, /)\n",
      " |      Return self<=value.\n",
      " |  \n",
      " |  __lshift__(self, value, /)\n",
      " |      Return self<<value.\n",
      " |  \n",
      " |  __lt__(self, value, /)\n",
      " |      Return self<value.\n",
      " |  \n",
      " |  __mod__(self, value, /)\n",
      " |      Return self%value.\n",
      " |  \n",
      " |  __mul__(self, value, /)\n",
      " |      Return self*value.\n",
      " |  \n",
      " |  __ne__(self, value, /)\n",
      " |      Return self!=value.\n",
      " |  \n",
      " |  __neg__(self, /)\n",
      " |      -self\n",
      " |  \n",
      " |  __or__(self, value, /)\n",
      " |      Return self|value.\n",
      " |  \n",
      " |  __pos__(self, /)\n",
      " |      +self\n",
      " |  \n",
      " |  __pow__(self, value, mod=None, /)\n",
      " |      Return pow(self, value, mod).\n",
      " |  \n",
      " |  __radd__(self, value, /)\n",
      " |      Return value+self.\n",
      " |  \n",
      " |  __rand__(self, value, /)\n",
      " |      Return value&self.\n",
      " |  \n",
      " |  __rdivmod__(self, value, /)\n",
      " |      Return divmod(value, self).\n",
      " |  \n",
      " |  __repr__(self, /)\n",
      " |      Return repr(self).\n",
      " |  \n",
      " |  __rfloordiv__(self, value, /)\n",
      " |      Return value//self.\n",
      " |  \n",
      " |  __rlshift__(self, value, /)\n",
      " |      Return value<<self.\n",
      " |  \n",
      " |  __rmod__(self, value, /)\n",
      " |      Return value%self.\n",
      " |  \n",
      " |  __rmul__(self, value, /)\n",
      " |      Return value*self.\n",
      " |  \n",
      " |  __ror__(self, value, /)\n",
      " |      Return value|self.\n",
      " |  \n",
      " |  __round__(...)\n",
      " |      Rounding an Integral returns itself.\n",
      " |      Rounding with an ndigits argument also returns an integer.\n",
      " |  \n",
      " |  __rpow__(self, value, mod=None, /)\n",
      " |      Return pow(value, self, mod).\n",
      " |  \n",
      " |  __rrshift__(self, value, /)\n",
      " |      Return value>>self.\n",
      " |  \n",
      " |  __rshift__(self, value, /)\n",
      " |      Return self>>value.\n",
      " |  \n",
      " |  __rsub__(self, value, /)\n",
      " |      Return value-self.\n",
      " |  \n",
      " |  __rtruediv__(self, value, /)\n",
      " |      Return value/self.\n",
      " |  \n",
      " |  __rxor__(self, value, /)\n",
      " |      Return value^self.\n",
      " |  \n",
      " |  __sizeof__(self, /)\n",
      " |      Returns size in memory, in bytes.\n",
      " |  \n",
      " |  __str__(self, /)\n",
      " |      Return str(self).\n",
      " |  \n",
      " |  __sub__(self, value, /)\n",
      " |      Return self-value.\n",
      " |  \n",
      " |  __truediv__(self, value, /)\n",
      " |      Return self/value.\n",
      " |  \n",
      " |  __trunc__(...)\n",
      " |      Truncating an Integral returns itself.\n",
      " |  \n",
      " |  __xor__(self, value, /)\n",
      " |      Return self^value.\n",
      " |  \n",
      " |  bit_length(self, /)\n",
      " |      Number of bits necessary to represent self in binary.\n",
      " |      \n",
      " |      >>> bin(37)\n",
      " |      '0b100101'\n",
      " |      >>> (37).bit_length()\n",
      " |      6\n",
      " |  \n",
      " |  conjugate(...)\n",
      " |      Returns self, the complex conjugate of any int.\n",
      " |  \n",
      " |  to_bytes(self, /, length, byteorder, *, signed=False)\n",
      " |      Return an array of bytes representing an integer.\n",
      " |      \n",
      " |      length\n",
      " |        Length of bytes object to use.  An OverflowError is raised if the\n",
      " |        integer is not representable with the given number of bytes.\n",
      " |      byteorder\n",
      " |        The byte order used to represent the integer.  If byteorder is 'big',\n",
      " |        the most significant byte is at the beginning of the byte array.  If\n",
      " |        byteorder is 'little', the most significant byte is at the end of the\n",
      " |        byte array.  To request the native byte order of the host system, use\n",
      " |        `sys.byteorder' as the byte order value.\n",
      " |      signed\n",
      " |        Determines whether two's complement is used to represent the integer.\n",
      " |        If signed is False and a negative integer is given, an OverflowError\n",
      " |        is raised.\n",
      " |  \n",
      " |  ----------------------------------------------------------------------\n",
      " |  Class methods defined here:\n",
      " |  \n",
      " |  from_bytes(bytes, byteorder, *, signed=False) from builtins.type\n",
      " |      Return the integer represented by the given array of bytes.\n",
      " |      \n",
      " |      bytes\n",
      " |        Holds the array of bytes to convert.  The argument must either\n",
      " |        support the buffer protocol or be an iterable object producing bytes.\n",
      " |        Bytes and bytearray are examples of built-in objects that support the\n",
      " |        buffer protocol.\n",
      " |      byteorder\n",
      " |        The byte order used to represent the integer.  If byteorder is 'big',\n",
      " |        the most significant byte is at the beginning of the byte array.  If\n",
      " |        byteorder is 'little', the most significant byte is at the end of the\n",
      " |        byte array.  To request the native byte order of the host system, use\n",
      " |        `sys.byteorder' as the byte order value.\n",
      " |      signed\n",
      " |        Indicates whether two's complement is used to represent the integer.\n",
      " |  \n",
      " |  ----------------------------------------------------------------------\n",
      " |  Static methods defined here:\n",
      " |  \n",
      " |  __new__(*args, **kwargs) from builtins.type\n",
      " |      Create and return a new object.  See help(type) for accurate signature.\n",
      " |  \n",
      " |  ----------------------------------------------------------------------\n",
      " |  Data descriptors defined here:\n",
      " |  \n",
      " |  denominator\n",
      " |      the denominator of a rational number in lowest terms\n",
      " |  \n",
      " |  imag\n",
      " |      the imaginary part of a complex number\n",
      " |  \n",
      " |  numerator\n",
      " |      the numerator of a rational number in lowest terms\n",
      " |  \n",
      " |  real\n",
      " |      the real part of a complex number\n",
      "\n"
     ]
    }
   ],
   "source": [
    "help(int)"
   ]
  },
  {
   "cell_type": "markdown",
   "metadata": {
    "slideshow": {
     "slide_type": "subslide"
    }
   },
   "source": [
    "### Float\n",
    "Küsüratlı değerler"
   ]
  },
  {
   "cell_type": "code",
   "execution_count": 25,
   "metadata": {
    "slideshow": {
     "slide_type": "subslide"
    }
   },
   "outputs": [
    {
     "name": "stdout",
     "output_type": "stream",
     "text": [
      "<class 'float'>\n"
     ]
    }
   ],
   "source": [
    "ates_derecesi = 36.9\n",
    "print(type(ates_derecesi))"
   ]
  },
  {
   "cell_type": "code",
   "execution_count": 26,
   "metadata": {},
   "outputs": [
    {
     "name": "stdout",
     "output_type": "stream",
     "text": [
      "Help on class float in module builtins:\n",
      "\n",
      "class float(object)\n",
      " |  float(x=0, /)\n",
      " |  \n",
      " |  Convert a string or number to a floating point number, if possible.\n",
      " |  \n",
      " |  Methods defined here:\n",
      " |  \n",
      " |  __abs__(self, /)\n",
      " |      abs(self)\n",
      " |  \n",
      " |  __add__(self, value, /)\n",
      " |      Return self+value.\n",
      " |  \n",
      " |  __bool__(self, /)\n",
      " |      self != 0\n",
      " |  \n",
      " |  __divmod__(self, value, /)\n",
      " |      Return divmod(self, value).\n",
      " |  \n",
      " |  __eq__(self, value, /)\n",
      " |      Return self==value.\n",
      " |  \n",
      " |  __float__(self, /)\n",
      " |      float(self)\n",
      " |  \n",
      " |  __floordiv__(self, value, /)\n",
      " |      Return self//value.\n",
      " |  \n",
      " |  __format__(self, format_spec, /)\n",
      " |      Formats the float according to format_spec.\n",
      " |  \n",
      " |  __ge__(self, value, /)\n",
      " |      Return self>=value.\n",
      " |  \n",
      " |  __getattribute__(self, name, /)\n",
      " |      Return getattr(self, name).\n",
      " |  \n",
      " |  __getnewargs__(self, /)\n",
      " |  \n",
      " |  __gt__(self, value, /)\n",
      " |      Return self>value.\n",
      " |  \n",
      " |  __hash__(self, /)\n",
      " |      Return hash(self).\n",
      " |  \n",
      " |  __int__(self, /)\n",
      " |      int(self)\n",
      " |  \n",
      " |  __le__(self, value, /)\n",
      " |      Return self<=value.\n",
      " |  \n",
      " |  __lt__(self, value, /)\n",
      " |      Return self<value.\n",
      " |  \n",
      " |  __mod__(self, value, /)\n",
      " |      Return self%value.\n",
      " |  \n",
      " |  __mul__(self, value, /)\n",
      " |      Return self*value.\n",
      " |  \n",
      " |  __ne__(self, value, /)\n",
      " |      Return self!=value.\n",
      " |  \n",
      " |  __neg__(self, /)\n",
      " |      -self\n",
      " |  \n",
      " |  __pos__(self, /)\n",
      " |      +self\n",
      " |  \n",
      " |  __pow__(self, value, mod=None, /)\n",
      " |      Return pow(self, value, mod).\n",
      " |  \n",
      " |  __radd__(self, value, /)\n",
      " |      Return value+self.\n",
      " |  \n",
      " |  __rdivmod__(self, value, /)\n",
      " |      Return divmod(value, self).\n",
      " |  \n",
      " |  __repr__(self, /)\n",
      " |      Return repr(self).\n",
      " |  \n",
      " |  __rfloordiv__(self, value, /)\n",
      " |      Return value//self.\n",
      " |  \n",
      " |  __rmod__(self, value, /)\n",
      " |      Return value%self.\n",
      " |  \n",
      " |  __rmul__(self, value, /)\n",
      " |      Return value*self.\n",
      " |  \n",
      " |  __round__(self, ndigits=None, /)\n",
      " |      Return the Integral closest to x, rounding half toward even.\n",
      " |      \n",
      " |      When an argument is passed, work like built-in round(x, ndigits).\n",
      " |  \n",
      " |  __rpow__(self, value, mod=None, /)\n",
      " |      Return pow(value, self, mod).\n",
      " |  \n",
      " |  __rsub__(self, value, /)\n",
      " |      Return value-self.\n",
      " |  \n",
      " |  __rtruediv__(self, value, /)\n",
      " |      Return value/self.\n",
      " |  \n",
      " |  __str__(self, /)\n",
      " |      Return str(self).\n",
      " |  \n",
      " |  __sub__(self, value, /)\n",
      " |      Return self-value.\n",
      " |  \n",
      " |  __truediv__(self, value, /)\n",
      " |      Return self/value.\n",
      " |  \n",
      " |  __trunc__(self, /)\n",
      " |      Return the Integral closest to x between 0 and x.\n",
      " |  \n",
      " |  as_integer_ratio(self, /)\n",
      " |      Return integer ratio.\n",
      " |      \n",
      " |      Return a pair of integers, whose ratio is exactly equal to the original float\n",
      " |      and with a positive denominator.\n",
      " |      \n",
      " |      Raise OverflowError on infinities and a ValueError on NaNs.\n",
      " |      \n",
      " |      >>> (10.0).as_integer_ratio()\n",
      " |      (10, 1)\n",
      " |      >>> (0.0).as_integer_ratio()\n",
      " |      (0, 1)\n",
      " |      >>> (-.25).as_integer_ratio()\n",
      " |      (-1, 4)\n",
      " |  \n",
      " |  conjugate(self, /)\n",
      " |      Return self, the complex conjugate of any float.\n",
      " |  \n",
      " |  hex(self, /)\n",
      " |      Return a hexadecimal representation of a floating-point number.\n",
      " |      \n",
      " |      >>> (-0.1).hex()\n",
      " |      '-0x1.999999999999ap-4'\n",
      " |      >>> 3.14159.hex()\n",
      " |      '0x1.921f9f01b866ep+1'\n",
      " |  \n",
      " |  is_integer(self, /)\n",
      " |      Return True if the float is an integer.\n",
      " |  \n",
      " |  ----------------------------------------------------------------------\n",
      " |  Class methods defined here:\n",
      " |  \n",
      " |  __getformat__(typestr, /) from builtins.type\n",
      " |      You probably don't want to use this function.\n",
      " |      \n",
      " |        typestr\n",
      " |          Must be 'double' or 'float'.\n",
      " |      \n",
      " |      It exists mainly to be used in Python's test suite.\n",
      " |      \n",
      " |      This function returns whichever of 'unknown', 'IEEE, big-endian' or 'IEEE,\n",
      " |      little-endian' best describes the format of floating point numbers used by the\n",
      " |      C type named by typestr.\n",
      " |  \n",
      " |  __set_format__(typestr, fmt, /) from builtins.type\n",
      " |      You probably don't want to use this function.\n",
      " |      \n",
      " |        typestr\n",
      " |          Must be 'double' or 'float'.\n",
      " |        fmt\n",
      " |          Must be one of 'unknown', 'IEEE, big-endian' or 'IEEE, little-endian',\n",
      " |          and in addition can only be one of the latter two if it appears to\n",
      " |          match the underlying C reality.\n",
      " |      \n",
      " |      It exists mainly to be used in Python's test suite.\n",
      " |      \n",
      " |      Override the automatic determination of C-level floating point type.\n",
      " |      This affects how floats are converted to and from binary strings.\n",
      " |  \n",
      " |  fromhex(string, /) from builtins.type\n",
      " |      Create a floating-point number from a hexadecimal string.\n",
      " |      \n",
      " |      >>> float.fromhex('0x1.ffffp10')\n",
      " |      2047.984375\n",
      " |      >>> float.fromhex('-0x1p-1074')\n",
      " |      -5e-324\n",
      " |  \n",
      " |  ----------------------------------------------------------------------\n",
      " |  Static methods defined here:\n",
      " |  \n",
      " |  __new__(*args, **kwargs) from builtins.type\n",
      " |      Create and return a new object.  See help(type) for accurate signature.\n",
      " |  \n",
      " |  ----------------------------------------------------------------------\n",
      " |  Data descriptors defined here:\n",
      " |  \n",
      " |  imag\n",
      " |      the imaginary part of a complex number\n",
      " |  \n",
      " |  real\n",
      " |      the real part of a complex number\n",
      "\n"
     ]
    }
   ],
   "source": [
    "help(float)"
   ]
  },
  {
   "cell_type": "markdown",
   "metadata": {
    "slideshow": {
     "slide_type": "subslide"
    }
   },
   "source": [
    "### String\n",
    "Metinsel değişkenler"
   ]
  },
  {
   "cell_type": "code",
   "execution_count": null,
   "metadata": {
    "slideshow": {
     "slide_type": "subslide"
    }
   },
   "outputs": [],
   "source": [
    "isim_soyisim = \"Mehmet Yılmaz\"\n",
    "print(type(isim_soyisim))"
   ]
  },
  {
   "cell_type": "markdown",
   "metadata": {
    "slideshow": {
     "slide_type": "subslide"
    }
   },
   "source": [
    "### bool değişkenleri\n",
    "Doğru Yanlış değerleridir"
   ]
  },
  {
   "cell_type": "code",
   "execution_count": null,
   "metadata": {
    "slideshow": {
     "slide_type": "subslide"
    }
   },
   "outputs": [],
   "source": [
    "oksuruk_var_mi = True\n",
    "print(type(oksuruk_var_mi))"
   ]
  },
  {
   "cell_type": "markdown",
   "metadata": {
    "slideshow": {
     "slide_type": "slide"
    }
   },
   "source": [
    "## Stringler"
   ]
  },
  {
   "cell_type": "code",
   "execution_count": null,
   "metadata": {
    "slideshow": {
     "slide_type": "slide"
    }
   },
   "outputs": [],
   "source": [
    "# Tek ' ile tanımlama\n",
    "kurs_adi = 'Mühendishane'nin Python Eğitimi'\n"
   ]
  },
  {
   "cell_type": "code",
   "execution_count": null,
   "metadata": {
    "slideshow": {
     "slide_type": "subslide"
    }
   },
   "outputs": [],
   "source": [
    "kurs_adi=\"Mühendishane'nin Python Eğitimi\""
   ]
  },
  {
   "cell_type": "code",
   "execution_count": null,
   "metadata": {
    "slideshow": {
     "slide_type": "subslide"
    }
   },
   "outputs": [],
   "source": [
    "# Dilimleme yapmak için\n",
    "print(kurs_adi[:12])"
   ]
  },
  {
   "cell_type": "code",
   "execution_count": null,
   "metadata": {
    "slideshow": {
     "slide_type": "subslide"
    }
   },
   "outputs": [],
   "source": [
    "print(kurs_adi[17:])"
   ]
  },
  {
   "cell_type": "code",
   "execution_count": null,
   "metadata": {
    "slideshow": {
     "slide_type": "subslide"
    }
   },
   "outputs": [],
   "source": [
    "print(kurs_adi[17:23])"
   ]
  },
  {
   "cell_type": "code",
   "execution_count": null,
   "metadata": {
    "slideshow": {
     "slide_type": "subslide"
    }
   },
   "outputs": [],
   "source": [
    "# bir metindeki karakter sayısını ölçmek için\n",
    "print(len(kurs_adi))"
   ]
  },
  {
   "cell_type": "code",
   "execution_count": null,
   "metadata": {
    "slideshow": {
     "slide_type": "subslide"
    }
   },
   "outputs": [],
   "source": [
    "# büyük ya da küçük karaktere dönüştürme\n",
    "print(kurs_adi.upper())"
   ]
  },
  {
   "cell_type": "code",
   "execution_count": null,
   "metadata": {
    "slideshow": {
     "slide_type": "subslide"
    }
   },
   "outputs": [],
   "source": [
    "print(kurs_adi.lower())"
   ]
  },
  {
   "cell_type": "code",
   "execution_count": null,
   "metadata": {
    "slideshow": {
     "slide_type": "subslide"
    }
   },
   "outputs": [],
   "source": [
    "# Kurs adı değişmiyor\n",
    "print(kurs_adi)"
   ]
  },
  {
   "cell_type": "code",
   "execution_count": null,
   "metadata": {
    "slideshow": {
     "slide_type": "subslide"
    }
   },
   "outputs": [],
   "source": [
    "# Karakterin kaçıncı sırada olduğunu bulmak için\n",
    "print(kurs_adi.find('P'))"
   ]
  },
  {
   "cell_type": "code",
   "execution_count": null,
   "metadata": {
    "slideshow": {
     "slide_type": "subslide"
    }
   },
   "outputs": [],
   "source": [
    "# kelimenin ilk harfinin başlangıcını yazar\n",
    "print(kurs_adi.find('Eğitimi'))"
   ]
  },
  {
   "cell_type": "code",
   "execution_count": null,
   "metadata": {
    "slideshow": {
     "slide_type": "subslide"
    }
   },
   "outputs": [],
   "source": [
    "# bir yerdeki karakterleri değiştirmek için\n",
    "print(kurs_adi.replace(\"Python\", \"C++\"))"
   ]
  },
  {
   "cell_type": "code",
   "execution_count": null,
   "metadata": {
    "slideshow": {
     "slide_type": "subslide"
    }
   },
   "outputs": [],
   "source": [
    "# bir takım karakterler var mı diye bakmak [in] operatörü\n",
    "print('Python' in kurs_adi)"
   ]
  },
  {
   "cell_type": "code",
   "execution_count": null,
   "metadata": {
    "scrolled": true
   },
   "outputs": [],
   "source": [
    "# center\n",
    "print(kurs_adi.center(50,\"*\"))\n",
    "# split fonksiyonu\n",
    "'1+2+3+4+5'.split('+')\n",
    "# strip fonksiyonu\n",
    "\" Mühendishane'nin Python Eğitimi \".strip()\n",
    "# join\n",
    "'+'.join(\"1234\")"
   ]
  },
  {
   "cell_type": "markdown",
   "metadata": {
    "slideshow": {
     "slide_type": "slide"
    }
   },
   "source": [
    "## Aritmetik işlemleri"
   ]
  },
  {
   "cell_type": "code",
   "execution_count": null,
   "metadata": {
    "slideshow": {
     "slide_type": "subslide"
    }
   },
   "outputs": [],
   "source": [
    "# Toplama çıkarma\n",
    "print(10+3)\n",
    "# çarpma, üs alma\n",
    "print(10**3)\n",
    "# bölme, modül alma\n",
    "print(10/3)\n",
    "print(10//3)\n",
    "print(10%3)"
   ]
  },
  {
   "cell_type": "markdown",
   "metadata": {
    "slideshow": {
     "slide_type": "subslide"
    }
   },
   "source": [
    "### Operasyon öncelikleri\n",
    "0. parantez içi\n",
    "1. Üssel ifadeler 2**3\n",
    "2. çarpma veya bölme\n",
    "3. toplama veya çıkarma"
   ]
  },
  {
   "cell_type": "code",
   "execution_count": null,
   "metadata": {
    "slideshow": {
     "slide_type": "subslide"
    }
   },
   "outputs": [],
   "source": [
    "x = 30+4*5\n",
    "y = 3**2*4-10*2\n",
    "z = (9+2)**2+3\n",
    "print(x)\n",
    "print(y)\n",
    "print(z)"
   ]
  },
  {
   "cell_type": "code",
   "execution_count": null,
   "metadata": {
    "slideshow": {
     "slide_type": "subslide"
    }
   },
   "outputs": [],
   "source": [
    "# mutlak değer\n",
    "print(abs(-2.6))"
   ]
  },
  {
   "cell_type": "markdown",
   "metadata": {
    "slideshow": {
     "slide_type": "subslide"
    }
   },
   "source": [
    "### Math Modülü\n",
    "Matematiksel işlemlerin olduğu modül\n",
    "Python’ın Standart Kütüphanesi içinde hangi modüllerin olduğunu\n",
    "https://docs.python.org/3/library/ adresinden inceleyebilirsiniz."
   ]
  },
  {
   "cell_type": "code",
   "execution_count": null,
   "metadata": {
    "slideshow": {
     "slide_type": "subslide"
    }
   },
   "outputs": [],
   "source": [
    "# Math modülünü çağırıyoruz.\n",
    "import math"
   ]
  },
  {
   "cell_type": "code",
   "execution_count": null,
   "metadata": {
    "slideshow": {
     "slide_type": "subslide"
    }
   },
   "outputs": [],
   "source": [
    "# modül içindeki tüm fonksiyonlar\n",
    "dir(math)"
   ]
  },
  {
   "cell_type": "code",
   "execution_count": null,
   "metadata": {
    "slideshow": {
     "slide_type": "subslide"
    }
   },
   "outputs": [],
   "source": [
    "x = 2.9\n",
    "y=math.ceil(x)\n",
    "print(y)\n",
    "z = math.floor(x)\n",
    "print(z)\n",
    "pi=math.pi\n",
    "print(pi)\n",
    "kok=math.sqrt(16)\n",
    "print(kok)\n",
    "print(math.inf)\n",
    "print(math.factorial(5))"
   ]
  },
  {
   "cell_type": "markdown",
   "metadata": {},
   "source": [
    "## Ödev"
   ]
  },
  {
   "cell_type": "markdown",
   "metadata": {},
   "source": [
    "**[Practice Python](https://www.practicepython.org/)'daki aşağıdaki örnekleri çözelim**  \n",
    "1. [Exercise 1](https://www.practicepython.org/exercise/2014/01/29/01-character-input.html)  \n",
    "2. [Exercise 6](https://www.practicepython.org/exercise/2014/03/12/06-string-lists.html)\n",
    "3. Kullanıcıdan alınan yarıçap ölçüsü(float) ile çemberin çevresini ve alanını hesaplayan ve ekrana yazdıran bir program yazınız. "
   ]
  },
  {
   "cell_type": "code",
   "execution_count": null,
   "metadata": {},
   "outputs": [],
   "source": []
  }
 ],
 "metadata": {
  "kernelspec": {
   "display_name": "Python 3",
   "language": "python",
   "name": "python3"
  },
  "language_info": {
   "codemirror_mode": {
    "name": "ipython",
    "version": 3
   },
   "file_extension": ".py",
   "mimetype": "text/x-python",
   "name": "python",
   "nbconvert_exporter": "python",
   "pygments_lexer": "ipython3",
   "version": "3.7.4"
  },
  "toc": {
   "base_numbering": 1,
   "nav_menu": {
    "height": "369px",
    "width": "240px"
   },
   "number_sections": true,
   "sideBar": true,
   "skip_h1_title": false,
   "title_cell": "Table of Contents",
   "title_sidebar": "Contents",
   "toc_cell": false,
   "toc_position": {
    "height": "calc(100% - 180px)",
    "left": "10px",
    "top": "150px",
    "width": "357.533px"
   },
   "toc_section_display": true,
   "toc_window_display": false
  }
 },
 "nbformat": 4,
 "nbformat_minor": 2
}
