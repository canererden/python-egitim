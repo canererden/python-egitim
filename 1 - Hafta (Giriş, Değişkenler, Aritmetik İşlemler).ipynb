{
 "cells": [
  {
   "cell_type": "markdown",
   "metadata": {
    "slideshow": {
     "slide_type": "slide"
    }
   },
   "source": [
    "# Mühendishane Temel Python Eğitim Kursu\n",
    "\n",
    "Mühendishane öğrencilerine özel bu kurs sayesinde bilgisayar programlamaya temel seviyede başlamak için gerekli bilgileri öğrenebilirsiniz. Kurstan sonra kendinizi geliştirerek daha profesyonel kodlar geliştirebilir ve kendi uygulamalarınızı yazabilirsiniz. Burada anlatılanlar sadece bir giriş anlamı taşıyacak ve daha ileri seviye programlar için sizin çabalarınız belirleyici olacaktır. Kurs boyunca kodları interaktif olarak birlikte yazacağız. Çünkü program yazma ancak ve ancak yazarak öğrenilebilir. \n",
    "\n",
    "\n",
    "## Kimler için?\n",
    "\n",
    "Bu eğitim hiç bilgisayar programlama çalışması yapmamış kişiler için hazırlanmıştır. Eğer daha önce bir eğitiminiz varsa ya da program geliştirdiyseniz bu eğitim sizin için basit kalabilir."
   ]
  },
  {
   "cell_type": "markdown",
   "metadata": {
    "slideshow": {
     "slide_type": "subslide"
    }
   },
   "source": [
    "## Ben Kimim?\n",
    "\n",
    "Ben Caner Erden [linkten]( http://canererden.com/cv/ ) cv'me ulaşabilirsiniz. İlgi alanlarım makine çizelgeleme, sezgisel algoritmalar ve yapay zeka uygulamalarıdır. Programcılığa lisans dönemimde ilgi duymama rağmen önemli programlama çalışmalarıma doktora teziyle başladım. Doktora tezini yazarken tanıştığım Python programlama diliyle birçok akademik ve ofis işimi yapabiliyorum. Bu eğitimdeki içerik ve metotlar kendi tecrübelerimden yola çıkılarak hazırlanmıştır.\n",
    "\n",
    "## Bu kursta neler öğreneceğiz?\n",
    "\n",
    "Bu kursta öğrenmek isteyen herkese Python bilgisayar programlama dilinin temeli öğretilmeye çalışılacak. Merak etmeyin bu temel eğitim aşaması zor bir şey değil. Yeterli dikkat ve emekle herkesin üstesinden gelebileceği bir şey. Tabii her konuda olduğu gibi programcılık da derya deniz bir konu. Aranızda çok karmaşık yapıları, mühendislik problemlerini çözmeye aday kişiler de olabilir. Ancak bu kursta basit yapıda programlar geliştirilecek. Devamı için kendini geliştirmek isteyenlere yardımcı olabilirim ama bu kursta giriş seviyesinde bir yerde bitireceğiz.    \n",
    "\n",
    "**Eğer çok ve verimli çalışırsanız, zaman ayırırsanız kodlama ile akademik hayatınızdaki birçok probleminizi çözebilirsiniz.**    \n",
    "\n",
    "Temel Python öğreniminin günde 2 saatten 3 ay çalışma gerektirdiği söylenir. Eğer bir alanda örneğin internet programcılığı alanında uzmanlaşmak istiyorsanız artı olarak HTML, CSS, Javascript ve Django gibi bilgileri de edinmeniz gerekir. Bu da 6 aylık bir çalışmaya daha ihtiyacınız var demektir.  "
   ]
  },
  {
   "cell_type": "markdown",
   "metadata": {
    "slideshow": {
     "slide_type": "subslide"
    }
   },
   "source": [
    "## Konular\n",
    "\n",
    "Kurs haftada 2 saat ve toplam 4 hafta olarak planlanmıştır. Kurs içeriği aşağıda verilmiştir. \n",
    "\n",
    "- 1. Hafta\n",
    "     1. Giriş\n",
    "     2. Gömülü Fonksiyonlar (print(), input(), type())\n",
    "     3. Değişkenler (int, float, string)\n",
    "     4. Aritmetik İşlemler (toplama, çıkarma, çarpma, bölme, üs alma vb.)\n",
    "\n",
    "- 2. Hafta\n",
    "     1. Fonksiyonlar\n",
    "     2. Modüller, Paketler\n",
    "     3. Listeler\n",
    "     4. Sözlükler\n",
    "     5. Kümeler\n",
    "\n",
    "- 3. Hafta\n",
    "\n",
    "     1. Koşullu durumlar\n",
    "     2. Döngüler\n",
    "     3. Temel paketler\n",
    "        1. os, random, sys, datetime\n",
    "\n",
    "     4. Dosya işlemleri\n",
    "\n",
    "- 4. Hafta\n",
    "     1. Veri Bilimi\n",
    "     2. Numpy\n",
    "     3. Pandas\n",
    "     4. Matplotlib\n",
    "     5. Uygulama (Regresyon analizi)"
   ]
  },
  {
   "cell_type": "markdown",
   "metadata": {
    "slideshow": {
     "slide_type": "slide"
    }
   },
   "source": [
    "# Python\n",
    "\n",
    " Python birçok programlama alanında kullanabileceğiniz genel  amaçlı(Masaüstü, Web, Mobil ortamlar) nesne yönelimli bir programlama  dilidir. Diğer popüler programlama dillerinden farklı olarak  yorumlanabilir bir programlama dilidir. Yani bir derleyiciye ihtiyaç  duymaz.  \n",
    "\n",
    "## Neden Python\n",
    "\n",
    "1. Öğrenmesi, okuması, yazması diğerlerine göre daha kolay\n",
    "2. Popüler\n",
    "Python'un diğer programlama dilleri ile olan konumu için [videoyu](https://www.youtube.com/embed/cKzP61Gjf00) izleyebiliriz.\n",
    "\n",
    "3. Ücretsizdir\n",
    "4. Önemli şirketler kullanıyor ve destekliyor (Dropbox, Instagram, Google vb.)\n",
    "5. Birçok alanda kullanılabilir\n",
    "    - Yapay Zeka (Scikit-Learn, Keras, TensorFlow, Caffe)\n",
    "    - Veri Bilimi (Numpy ,SciPy, Matplotlib, Pandas)\n",
    "    - Robotik (rasperry pi)\n",
    "    - Web Programlama (Django ve Flask)\n",
    "    - Oyun Programlama (PyGame)\n",
    "    - Mobil Uygulama ((Kivy)\n",
    "    - Arayüz Programları (PyQt, PyGTK, Tkinter, wxPython)\n",
    "    - Örümcek yazılımlar (Scrapy, Requests, Beatifulsoup)\n",
    "    - Veri madenciliği(Numpy ,SciPy, Matplotlib, Pandas vb.)\n",
    "    - Blockchain"
   ]
  },
  {
   "cell_type": "markdown",
   "metadata": {
    "slideshow": {
     "slide_type": "subslide"
    }
   },
   "source": [
    "## Öğrenme Kaynakları\n",
    "\n",
    "Aşağıdakiler sadece örnektir. İnternette bir dünya kaynak bulabilirsiniz.\n",
    "\n",
    "1. Turkce kaynak\n",
    "   - [istihza](https://belgeler.yazbel.com/python-istihza/)\n",
    "2. Yabancı kaynak \n",
    "   - Learn Python Hard Way\n",
    "   - YouTube kanalları\n",
    "     - Sendex\n",
    "     - Techwithtim\n",
    "   - Sayfalar\n",
    "     - Towardsdatascience\n",
    "     - Realpython\n",
    "     - Python everywhere\n",
    "\n",
    "## Python Soruları nasıl, nerede sorulur?  \n",
    "\n",
    "Soru Sorulabilecek Sayfalar:\n",
    "1. [Stackoverflow ](https://stackoverflow.com/)\n",
    "2. [Github](https://github.com/)\n",
    "3. [Python forum](https://www.python.org/community/forums/)\n",
    "4. [Google Groups](https://groups.google.com/forum/#!forum/python-ideas)\n",
    "5. [Paket dokümantasyonları](https://docs.scipy.org/doc/numpy/reference/)\n",
    "6. [Facebook, Twitter, Linkedin vb sosyal medyalar!]"
   ]
  },
  {
   "cell_type": "markdown",
   "metadata": {
    "slideshow": {
     "slide_type": "subslide"
    }
   },
   "source": [
    "## Python Kurulumu\n",
    "\n",
    "Çalışmaya başlamak için Anaconda yeterli. Eğitime gelmeden önce, bilgisayarınıza  [Anaconda](https://www.anaconda.com/distribution/) Python 3.7 versiyon dağıtımını yükleyiniz. Arzu eden Anaconda dışında kendi çalışma ortamını oluşturabilir. [Kurulum için](https://problemsolvingwithpython.com/01-Orientation/01.03-Installing-Anaconda-on-Windows/)\n",
    "\n",
    "Çalışma Ortamı tavsiyeleri:  \n",
    "\n",
    "1. Jupyter (Interactive Code Editor)\n",
    "2. Visual Studio Code (Editor)\n",
    "3. Pycharm (IDE)\n",
    "4. Atom  (Editor)\n",
    "5. Sublime Text (Editor)\n",
    "6. Kaggle (Online)\n",
    "7. Google Colab (Online)\n",
    "8. Spyder (IDE)\n",
    "  \n",
    "\n",
    "### Jupyter Hakkında\n",
    "\n",
    "Hem notlarınızı hem de kodlarınızı bir arada tutmak için kullanabileceğiniz en başarılı araçlardan birisidir. Bu alanda kendisini kanıtlamıştır ve birçok geliştirici tarafından kullanılmaktadır. Genellikle veri bilimi konusunda çalışanlar tarafından tercih edilmektedir. \n",
    "\n",
    "Bu kursta kullanılıcak araçlardan birisi de Jupyter Notebook'lardır. Kodları burada geliştirebilir ve sonuçları buradan takip edebiliriz.\n",
    "\n",
    "Jupyter programını açmak için Anaconda programını kurduktan sonra Başlat >> Anaconda3 >> Jupyter Programına tıklayınız. Çalışma klasörünü seçtikten sonra bir python 3 dosyası oluşturunuz. \n",
    "\n",
    "**Artık kod yazmaya başlayabiliriz.** "
   ]
  },
  {
   "cell_type": "markdown",
   "metadata": {
    "slideshow": {
     "slide_type": "slide"
    }
   },
   "source": [
    "# Gömülü Fonksiyonlar\n",
    "Python kurulumu ile birlikte gelen ve sonradan kurmanıza gerek kalmayan fonksiyonlardır. Örnekler aşağıdadır.\n",
    "## Print Fonksiyonu\n",
    "\n",
    "print() fonksiyonu içerisine yazılan bilgiyi ekrana yazdırır.\n"
   ]
  },
  {
   "cell_type": "code",
   "execution_count": 1,
   "metadata": {
    "slideshow": {
     "slide_type": "slide"
    }
   },
   "outputs": [
    {
     "name": "stdout",
     "output_type": "stream",
     "text": [
      "Mühendishane\n",
      "o----\n",
      "**********\n"
     ]
    }
   ],
   "source": [
    "print(\"Mühendishane\")\n",
    "print(\"o----\")\n",
    "print(\"*\"*10)"
   ]
  },
  {
   "cell_type": "code",
   "execution_count": 2,
   "metadata": {},
   "outputs": [
    {
     "name": "stdout",
     "output_type": "stream",
     "text": [
      "Help on built-in function print in module builtins:\n",
      "\n",
      "print(...)\n",
      "    print(value, ..., sep=' ', end='\\n', file=sys.stdout, flush=False)\n",
      "    \n",
      "    Prints the values to a stream, or to sys.stdout by default.\n",
      "    Optional keyword arguments:\n",
      "    file:  a file-like object (stream); defaults to the current sys.stdout.\n",
      "    sep:   string inserted between values, default a space.\n",
      "    end:   string appended after the last value, default a newline.\n",
      "    flush: whether to forcibly flush the stream.\n",
      "\n"
     ]
    }
   ],
   "source": [
    "help(print)"
   ]
  },
  {
   "cell_type": "code",
   "execution_count": 1,
   "metadata": {},
   "outputs": [
    {
     "name": "stdout",
     "output_type": "stream",
     "text": [
      "Merhaba*Dünya\n"
     ]
    }
   ],
   "source": [
    "print(\"Merhaba\",\"Dünya\",sep=\"*\")"
   ]
  },
  {
   "cell_type": "markdown",
   "metadata": {},
   "source": [
    "**\\n karakteri**  \n",
    "Alt satırdan ekrana yazdırır"
   ]
  },
  {
   "cell_type": "code",
   "execution_count": 3,
   "metadata": {},
   "outputs": [
    {
     "name": "stdout",
     "output_type": "stream",
     "text": [
      "Mühendishane\n",
      "Python\n",
      "Eğtimine\n",
      "Hoşgeldiniz\n"
     ]
    }
   ],
   "source": [
    "print(\"Mühendishane\\nPython\\nEğtimine\\nHoşgeldiniz\")"
   ]
  },
  {
   "cell_type": "markdown",
   "metadata": {},
   "source": [
    "**\\t karakteri**  \n",
    "bir tab boşluk bırakarak ekrana yazdırır"
   ]
  },
  {
   "cell_type": "code",
   "execution_count": 4,
   "metadata": {},
   "outputs": [
    {
     "name": "stdout",
     "output_type": "stream",
     "text": [
      "Mühendishane\tPython\tEğtimine\tHoşgeldiniz\n"
     ]
    }
   ],
   "source": [
    "print(\"Mühendishane\\tPython\\tEğtimine\\tHoşgeldiniz\")"
   ]
  },
  {
   "cell_type": "markdown",
   "metadata": {},
   "source": [
    "**sep parametresi**  \n",
    "değerlerin arasına istediğimiz karakteri yazdırabiliriz."
   ]
  },
  {
   "cell_type": "code",
   "execution_count": 5,
   "metadata": {},
   "outputs": [
    {
     "name": "stdout",
     "output_type": "stream",
     "text": [
      "Mühendishane-Python-Eğitimi\n"
     ]
    }
   ],
   "source": [
    "print(\"Mühendishane\", \"Python\", \"Eğitimi\", sep = \"-\")"
   ]
  },
  {
   "cell_type": "markdown",
   "metadata": {
    "slideshow": {
     "slide_type": "subslide"
    }
   },
   "source": [
    "### Format Print()\n",
    "\"Mehmet Yılmaz\" isminde bir hastanın bilgilerini ekrana yazdıralım"
   ]
  },
  {
   "cell_type": "code",
   "execution_count": 6,
   "metadata": {
    "slideshow": {
     "slide_type": "subslide"
    }
   },
   "outputs": [
    {
     "name": "stdout",
     "output_type": "stream",
     "text": [
      "Bugün hastaneye Mehmet Yılmaz isminde 30 yaşında bir hasta gelmiştir\n"
     ]
    }
   ],
   "source": [
    "print(\"Bugün hastaneye {} isminde {} yaşında bir hasta gelmiştir\".format(\"Mehmet Yılmaz\",30))"
   ]
  },
  {
   "cell_type": "code",
   "execution_count": null,
   "metadata": {
    "scrolled": true,
    "slideshow": {
     "slide_type": "subslide"
    }
   },
   "outputs": [],
   "source": [
    "print(\"Hastanın {} derece ateşi vardır\".format(37.6))"
   ]
  },
  {
   "cell_type": "markdown",
   "metadata": {
    "slideshow": {
     "slide_type": "slide"
    }
   },
   "source": [
    "## Input() Fonksiyonu\n",
    "Kullanıcıdan veri almak için kullanılır."
   ]
  },
  {
   "cell_type": "code",
   "execution_count": 2,
   "metadata": {
    "slideshow": {
     "slide_type": "subslide"
    }
   },
   "outputs": [
    {
     "name": "stdout",
     "output_type": "stream",
     "text": [
      "isminiz nedir? Caner\n",
      "Merhaba Caner\n"
     ]
    }
   ],
   "source": [
    "isim = input(\"isminiz nedir? \")\n",
    "# + işareti birleştirmek için (boşluk bırakmaz)\n",
    "print(\"Merhaba \" + isim)"
   ]
  },
  {
   "cell_type": "code",
   "execution_count": null,
   "metadata": {
    "slideshow": {
     "slide_type": "subslide"
    }
   },
   "outputs": [],
   "source": [
    "yas = input(\"Yaşınız kaç? \")\n",
    "# , işareti de birleştirme için kullanılır arada boşluk vardır.\n",
    "print(isim, yas, \"yaşındadır.\")"
   ]
  },
  {
   "cell_type": "markdown",
   "metadata": {
    "slideshow": {
     "slide_type": "subslide"
    }
   },
   "source": [
    "### Yaş hesaplama\n",
    "Girilen yıla göre yaş hesaplama"
   ]
  },
  {
   "cell_type": "code",
   "execution_count": 3,
   "metadata": {
    "slideshow": {
     "slide_type": "subslide"
    }
   },
   "outputs": [
    {
     "name": "stdout",
     "output_type": "stream",
     "text": [
      "Doğum yılınızı giriniz >> 1989\n"
     ]
    },
    {
     "ename": "TypeError",
     "evalue": "unsupported operand type(s) for -: 'int' and 'str'",
     "output_type": "error",
     "traceback": [
      "\u001b[1;31m---------------------------------------------------------------------------\u001b[0m",
      "\u001b[1;31mTypeError\u001b[0m                                 Traceback (most recent call last)",
      "\u001b[1;32m<ipython-input-3-adda66b69295>\u001b[0m in \u001b[0;36m<module>\u001b[1;34m\u001b[0m\n\u001b[0;32m      1\u001b[0m \u001b[0mdogum_yili\u001b[0m \u001b[1;33m=\u001b[0m \u001b[0minput\u001b[0m\u001b[1;33m(\u001b[0m\u001b[1;34m\"Doğum yılınızı giriniz >> \"\u001b[0m\u001b[1;33m)\u001b[0m\u001b[1;33m\u001b[0m\u001b[1;33m\u001b[0m\u001b[0m\n\u001b[1;32m----> 2\u001b[1;33m \u001b[0myas\u001b[0m \u001b[1;33m=\u001b[0m \u001b[1;36m2019\u001b[0m \u001b[1;33m-\u001b[0m \u001b[0mdogum_yili\u001b[0m\u001b[1;33m\u001b[0m\u001b[1;33m\u001b[0m\u001b[0m\n\u001b[0m\u001b[0;32m      3\u001b[0m \u001b[0mprint\u001b[0m\u001b[1;33m(\u001b[0m\u001b[1;34m\"Yaşınız \"\u001b[0m\u001b[1;33m,\u001b[0m \u001b[0myas\u001b[0m\u001b[1;33m)\u001b[0m\u001b[1;33m\u001b[0m\u001b[1;33m\u001b[0m\u001b[0m\n",
      "\u001b[1;31mTypeError\u001b[0m: unsupported operand type(s) for -: 'int' and 'str'"
     ]
    }
   ],
   "source": [
    "dogum_yili = input(\"Doğum yılınızı giriniz >> \")\n",
    "yas = 2019 - dogum_yili\n",
    "print(\"Yaşınız \", yas)"
   ]
  },
  {
   "cell_type": "markdown",
   "metadata": {
    "slideshow": {
     "slide_type": "subslide"
    }
   },
   "source": [
    "### Değişken dönüşümü\n",
    "input her değişkeni str olarak alır. Bu nedenle değişken dönüşümü yapmamız gerekir.\n",
    "int() fonksiyonu tam sayıya çevirir.  \n",
    "float() küsuratlı, str() metin e çevirir"
   ]
  },
  {
   "cell_type": "code",
   "execution_count": 10,
   "metadata": {},
   "outputs": [
    {
     "name": "stdout",
     "output_type": "stream",
     "text": [
      "Caner Erden\n"
     ]
    }
   ],
   "source": [
    "print(\"Caner \"+\"Erden\")"
   ]
  },
  {
   "cell_type": "code",
   "execution_count": 11,
   "metadata": {
    "slideshow": {
     "slide_type": "subslide"
    }
   },
   "outputs": [
    {
     "name": "stdout",
     "output_type": "stream",
     "text": [
      "Yaşınız  30\n"
     ]
    }
   ],
   "source": [
    "dogum_yili = int(dogum_yili)\n",
    "yas = 2019 - dogum_yili\n",
    "print(\"Yaşınız \", yas)"
   ]
  },
  {
   "cell_type": "code",
   "execution_count": 4,
   "metadata": {},
   "outputs": [
    {
     "data": {
      "text/plain": [
       "str"
      ]
     },
     "execution_count": 4,
     "metadata": {},
     "output_type": "execute_result"
    }
   ],
   "source": [
    "type(dogum_yili)"
   ]
  },
  {
   "cell_type": "code",
   "execution_count": null,
   "metadata": {
    "slideshow": {
     "slide_type": "subslide"
    }
   },
   "outputs": [],
   "source": [
    "dogum_yili = int(input(\"Doğum yılınızı giriniz >> \"))\n",
    "print(\"yasiniz\", 2019-dogum_yili)"
   ]
  },
  {
   "cell_type": "markdown",
   "metadata": {
    "slideshow": {
     "slide_type": "subslide"
    }
   },
   "source": [
    "### TL Dolar dönüşümü"
   ]
  },
  {
   "cell_type": "code",
   "execution_count": 12,
   "metadata": {
    "scrolled": true,
    "slideshow": {
     "slide_type": "subslide"
    }
   },
   "outputs": [
    {
     "name": "stdout",
     "output_type": "stream",
     "text": [
      "Elinizdeki TL miktarını giriniz\t\t: 100\n",
      "Elinizdeki TL'nin Dolar karşılığı\t: 20.0\n"
     ]
    }
   ],
   "source": [
    "TL_miktar = float(input(\"Elinizdeki TL miktarını giriniz\\t\\t: \"))\n",
    "dolar_miktari = TL_miktar*0.2\n",
    "print(\"Elinizdeki TL'nin Dolar karşılığı\\t:\", dolar_miktari)"
   ]
  },
  {
   "cell_type": "markdown",
   "metadata": {
    "slideshow": {
     "slide_type": "slide"
    }
   },
   "source": [
    "## Değişkenler\n",
    "### integer\n",
    "Tam sayılar"
   ]
  },
  {
   "cell_type": "code",
   "execution_count": null,
   "metadata": {
    "slideshow": {
     "slide_type": "subslide"
    }
   },
   "outputs": [],
   "source": [
    "yas = 10\n",
    "print(yas)\n",
    "print(type(yas))"
   ]
  },
  {
   "cell_type": "code",
   "execution_count": null,
   "metadata": {},
   "outputs": [],
   "source": [
    "help(int)"
   ]
  },
  {
   "cell_type": "markdown",
   "metadata": {
    "slideshow": {
     "slide_type": "subslide"
    }
   },
   "source": [
    "### Float\n",
    "Küsüratlı değerler"
   ]
  },
  {
   "cell_type": "code",
   "execution_count": null,
   "metadata": {
    "slideshow": {
     "slide_type": "subslide"
    }
   },
   "outputs": [],
   "source": [
    "ates_derecesi = 36.9\n",
    "print(type(ates_derecesi))"
   ]
  },
  {
   "cell_type": "code",
   "execution_count": null,
   "metadata": {},
   "outputs": [],
   "source": [
    "help(float)"
   ]
  },
  {
   "cell_type": "markdown",
   "metadata": {
    "slideshow": {
     "slide_type": "subslide"
    }
   },
   "source": [
    "### String\n",
    "Metinsel değişkenler"
   ]
  },
  {
   "cell_type": "code",
   "execution_count": null,
   "metadata": {
    "slideshow": {
     "slide_type": "subslide"
    }
   },
   "outputs": [],
   "source": [
    "isim_soyisim = \"Mehmet Yılmaz\"\n",
    "print(type(isim_soyisim))"
   ]
  },
  {
   "cell_type": "markdown",
   "metadata": {
    "slideshow": {
     "slide_type": "subslide"
    }
   },
   "source": [
    "### bool değişkenleri\n",
    "Doğru Yanlış değerleridir"
   ]
  },
  {
   "cell_type": "code",
   "execution_count": 5,
   "metadata": {
    "slideshow": {
     "slide_type": "subslide"
    }
   },
   "outputs": [
    {
     "name": "stdout",
     "output_type": "stream",
     "text": [
      "<class 'bool'>\n"
     ]
    }
   ],
   "source": [
    "oksuruk_var_mi = True\n",
    "print(type(oksuruk_var_mi))"
   ]
  },
  {
   "cell_type": "markdown",
   "metadata": {
    "slideshow": {
     "slide_type": "slide"
    }
   },
   "source": [
    "## Stringler"
   ]
  },
  {
   "cell_type": "code",
   "execution_count": 13,
   "metadata": {
    "slideshow": {
     "slide_type": "slide"
    }
   },
   "outputs": [
    {
     "ename": "SyntaxError",
     "evalue": "invalid syntax (<ipython-input-13-28ebe451ccf8>, line 2)",
     "output_type": "error",
     "traceback": [
      "\u001b[1;36m  File \u001b[1;32m\"<ipython-input-13-28ebe451ccf8>\"\u001b[1;36m, line \u001b[1;32m2\u001b[0m\n\u001b[1;33m    kurs_adi = 'Mühendishane'nin Python Eğitimi'\u001b[0m\n\u001b[1;37m                               ^\u001b[0m\n\u001b[1;31mSyntaxError\u001b[0m\u001b[1;31m:\u001b[0m invalid syntax\n"
     ]
    }
   ],
   "source": [
    "# Tek ' ile tanımlama\n",
    "kurs_adi = 'Mühendishane'nin Python Eğitimi'\n"
   ]
  },
  {
   "cell_type": "code",
   "execution_count": 7,
   "metadata": {
    "slideshow": {
     "slide_type": "subslide"
    }
   },
   "outputs": [],
   "source": [
    "kurs_adi=\"Mühendishane'nin Python Eğitimi\""
   ]
  },
  {
   "cell_type": "code",
   "execution_count": 16,
   "metadata": {
    "slideshow": {
     "slide_type": "subslide"
    }
   },
   "outputs": [
    {
     "name": "stdout",
     "output_type": "stream",
     "text": [
      "Mühendishane\n"
     ]
    }
   ],
   "source": [
    "# Dilimleme yapmak için\n",
    "print(kurs_adi[:12])"
   ]
  },
  {
   "cell_type": "code",
   "execution_count": 17,
   "metadata": {
    "slideshow": {
     "slide_type": "subslide"
    }
   },
   "outputs": [
    {
     "name": "stdout",
     "output_type": "stream",
     "text": [
      "Python Eğitimi\n"
     ]
    }
   ],
   "source": [
    "print(kurs_adi[17:])"
   ]
  },
  {
   "cell_type": "code",
   "execution_count": 18,
   "metadata": {
    "slideshow": {
     "slide_type": "subslide"
    }
   },
   "outputs": [
    {
     "name": "stdout",
     "output_type": "stream",
     "text": [
      "Python\n"
     ]
    }
   ],
   "source": [
    "print(kurs_adi[17:23])"
   ]
  },
  {
   "cell_type": "code",
   "execution_count": 19,
   "metadata": {
    "slideshow": {
     "slide_type": "subslide"
    }
   },
   "outputs": [
    {
     "name": "stdout",
     "output_type": "stream",
     "text": [
      "31\n"
     ]
    }
   ],
   "source": [
    "# bir metindeki karakter sayısını ölçmek için\n",
    "print(len(kurs_adi))"
   ]
  },
  {
   "cell_type": "code",
   "execution_count": 20,
   "metadata": {
    "slideshow": {
     "slide_type": "subslide"
    }
   },
   "outputs": [
    {
     "name": "stdout",
     "output_type": "stream",
     "text": [
      "MÜHENDISHANE'NIN PYTHON EĞITIMI\n"
     ]
    }
   ],
   "source": [
    "# büyük ya da küçük karaktere dönüştürme\n",
    "print(kurs_adi.upper())"
   ]
  },
  {
   "cell_type": "code",
   "execution_count": 21,
   "metadata": {
    "slideshow": {
     "slide_type": "subslide"
    }
   },
   "outputs": [
    {
     "name": "stdout",
     "output_type": "stream",
     "text": [
      "mühendishane'nin python eğitimi\n"
     ]
    }
   ],
   "source": [
    "print(kurs_adi.lower())"
   ]
  },
  {
   "cell_type": "code",
   "execution_count": 22,
   "metadata": {
    "slideshow": {
     "slide_type": "subslide"
    }
   },
   "outputs": [
    {
     "name": "stdout",
     "output_type": "stream",
     "text": [
      "Mühendishane'nin Python Eğitimi\n"
     ]
    }
   ],
   "source": [
    "# Kurs adı değişmiyor\n",
    "print(kurs_adi)"
   ]
  },
  {
   "cell_type": "code",
   "execution_count": 23,
   "metadata": {
    "slideshow": {
     "slide_type": "subslide"
    }
   },
   "outputs": [
    {
     "name": "stdout",
     "output_type": "stream",
     "text": [
      "17\n"
     ]
    }
   ],
   "source": [
    "# Karakterin kaçıncı sırada olduğunu bulmak için\n",
    "print(kurs_adi.find('P'))"
   ]
  },
  {
   "cell_type": "raw",
   "metadata": {
    "slideshow": {
     "slide_type": "subslide"
    }
   },
   "source": [
    "# kelimenin ilk harfinin başlangıcını yazar\n",
    "print(kurs_adi.find('Eğitimi'))"
   ]
  },
  {
   "cell_type": "code",
   "execution_count": null,
   "metadata": {},
   "outputs": [],
   "source": [
    "kur"
   ]
  },
  {
   "cell_type": "code",
   "execution_count": 8,
   "metadata": {
    "slideshow": {
     "slide_type": "subslide"
    }
   },
   "outputs": [
    {
     "name": "stdout",
     "output_type": "stream",
     "text": [
      "Mühendishane'nin C++ Eğitimi\n"
     ]
    }
   ],
   "source": [
    "# bir yerdeki karakterleri değiştirmek için\n",
    "print(kurs_adi.replace(\"Python\", \"C++\"))"
   ]
  },
  {
   "cell_type": "code",
   "execution_count": 9,
   "metadata": {
    "slideshow": {
     "slide_type": "subslide"
    }
   },
   "outputs": [
    {
     "name": "stdout",
     "output_type": "stream",
     "text": [
      "True\n"
     ]
    }
   ],
   "source": [
    "# bir takım karakterler var mı diye bakmak [in] operatörü\n",
    "print('Python' in kurs_adi)"
   ]
  },
  {
   "cell_type": "code",
   "execution_count": 11,
   "metadata": {
    "scrolled": true
   },
   "outputs": [
    {
     "name": "stdout",
     "output_type": "stream",
     "text": [
      "*********Mühendishane'nin Python Eğitimi**********\n",
      "['1', '2', '3', '4', '5']\n"
     ]
    },
    {
     "data": {
      "text/plain": [
       "'1+2+3+4'"
      ]
     },
     "execution_count": 11,
     "metadata": {},
     "output_type": "execute_result"
    }
   ],
   "source": [
    "# center\n",
    "print(kurs_adi.center(50,\"*\"))\n",
    "# split fonksiyonu\n",
    "print('1+2+3+4+5'.split('+'))\n",
    "# strip fonksiyonu\n",
    "\" Mühendishane'nin Python Eğitimi \".strip()\n",
    "# join\n",
    "'+'.join(\"1234\")"
   ]
  },
  {
   "cell_type": "code",
   "execution_count": null,
   "metadata": {},
   "outputs": [],
   "source": [
    "kurs_adi.center()"
   ]
  },
  {
   "cell_type": "markdown",
   "metadata": {
    "slideshow": {
     "slide_type": "slide"
    }
   },
   "source": [
    "## Aritmetik işlemleri"
   ]
  },
  {
   "cell_type": "code",
   "execution_count": 12,
   "metadata": {
    "slideshow": {
     "slide_type": "subslide"
    }
   },
   "outputs": [
    {
     "name": "stdout",
     "output_type": "stream",
     "text": [
      "13\n",
      "1000\n",
      "3.3333333333333335\n",
      "3\n",
      "1\n"
     ]
    }
   ],
   "source": [
    "# Toplama çıkarma\n",
    "print(10+3)\n",
    "# çarpma, üs alma\n",
    "print(10**3)\n",
    "# bölme, modül alma\n",
    "print(10/3)\n",
    "print(10//3)\n",
    "print(10%3)"
   ]
  },
  {
   "cell_type": "markdown",
   "metadata": {
    "slideshow": {
     "slide_type": "subslide"
    }
   },
   "source": [
    "### Operasyon öncelikleri\n",
    "0. parantez içi\n",
    "1. Üssel ifadeler 2**3\n",
    "2. çarpma veya bölme\n",
    "3. toplama veya çıkarma"
   ]
  },
  {
   "cell_type": "code",
   "execution_count": null,
   "metadata": {
    "slideshow": {
     "slide_type": "subslide"
    }
   },
   "outputs": [],
   "source": [
    "x = 30+4*5\n",
    "y = 3**2*4-10*2\n",
    "z = (9+2)**2+3\n",
    "print(x)\n",
    "print(y)\n",
    "print(z)"
   ]
  },
  {
   "cell_type": "code",
   "execution_count": null,
   "metadata": {
    "slideshow": {
     "slide_type": "subslide"
    }
   },
   "outputs": [],
   "source": [
    "# mutlak değer\n",
    "print(abs(-2.6))"
   ]
  },
  {
   "cell_type": "markdown",
   "metadata": {
    "slideshow": {
     "slide_type": "subslide"
    }
   },
   "source": [
    "### Math Modülü\n",
    "Matematiksel işlemlerin olduğu modül\n",
    "Python’ın Standart Kütüphanesi içinde hangi modüllerin olduğunu\n",
    "https://docs.python.org/3/library/ adresinden inceleyebilirsiniz."
   ]
  },
  {
   "cell_type": "code",
   "execution_count": 13,
   "metadata": {
    "slideshow": {
     "slide_type": "subslide"
    }
   },
   "outputs": [],
   "source": [
    "# Math modülünü çağırıyoruz.\n",
    "import math"
   ]
  },
  {
   "cell_type": "code",
   "execution_count": 14,
   "metadata": {
    "slideshow": {
     "slide_type": "subslide"
    }
   },
   "outputs": [
    {
     "data": {
      "text/plain": [
       "['__doc__',\n",
       " '__loader__',\n",
       " '__name__',\n",
       " '__package__',\n",
       " '__spec__',\n",
       " 'acos',\n",
       " 'acosh',\n",
       " 'asin',\n",
       " 'asinh',\n",
       " 'atan',\n",
       " 'atan2',\n",
       " 'atanh',\n",
       " 'ceil',\n",
       " 'copysign',\n",
       " 'cos',\n",
       " 'cosh',\n",
       " 'degrees',\n",
       " 'e',\n",
       " 'erf',\n",
       " 'erfc',\n",
       " 'exp',\n",
       " 'expm1',\n",
       " 'fabs',\n",
       " 'factorial',\n",
       " 'floor',\n",
       " 'fmod',\n",
       " 'frexp',\n",
       " 'fsum',\n",
       " 'gamma',\n",
       " 'gcd',\n",
       " 'hypot',\n",
       " 'inf',\n",
       " 'isclose',\n",
       " 'isfinite',\n",
       " 'isinf',\n",
       " 'isnan',\n",
       " 'ldexp',\n",
       " 'lgamma',\n",
       " 'log',\n",
       " 'log10',\n",
       " 'log1p',\n",
       " 'log2',\n",
       " 'modf',\n",
       " 'nan',\n",
       " 'pi',\n",
       " 'pow',\n",
       " 'radians',\n",
       " 'remainder',\n",
       " 'sin',\n",
       " 'sinh',\n",
       " 'sqrt',\n",
       " 'tan',\n",
       " 'tanh',\n",
       " 'tau',\n",
       " 'trunc']"
      ]
     },
     "execution_count": 14,
     "metadata": {},
     "output_type": "execute_result"
    }
   ],
   "source": [
    "# modül içindeki tüm fonksiyonlar\n",
    "dir(math)"
   ]
  },
  {
   "cell_type": "code",
   "execution_count": null,
   "metadata": {
    "slideshow": {
     "slide_type": "subslide"
    }
   },
   "outputs": [],
   "source": [
    "x = 2.9\n",
    "y=math.ceil(x)\n",
    "print(y)\n",
    "z = math.floor(x)\n",
    "print(z)\n",
    "pi=math.pi\n",
    "print(pi)\n",
    "kok=math.sqrt(16)\n",
    "print(kok)\n",
    "print(math.inf)\n",
    "print(math.factorial(5))"
   ]
  },
  {
   "cell_type": "code",
   "execution_count": 15,
   "metadata": {},
   "outputs": [
    {
     "data": {
      "text/plain": [
       "3.141592653589793"
      ]
     },
     "execution_count": 15,
     "metadata": {},
     "output_type": "execute_result"
    }
   ],
   "source": [
    "math.pi"
   ]
  },
  {
   "cell_type": "code",
   "execution_count": 16,
   "metadata": {},
   "outputs": [
    {
     "name": "stdout",
     "output_type": "stream",
     "text": [
      "inf\n"
     ]
    }
   ],
   "source": [
    "print(math.inf)"
   ]
  },
  {
   "cell_type": "markdown",
   "metadata": {},
   "source": [
    "## Ödev"
   ]
  },
  {
   "cell_type": "markdown",
   "metadata": {},
   "source": [
    "**[Practice Python](https://www.practicepython.org/)'daki aşağıdaki örnekleri çözelim**  \n",
    "1. [Exercise 1](https://www.practicepython.org/exercise/2014/01/29/01-character-input.html)  \n",
    "2. [Exercise 6](https://www.practicepython.org/exercise/2014/03/12/06-string-lists.html)\n",
    "3. Kullanıcıdan alınan yarıçap ölçüsü(float) ile çemberin çevresini ve alanını hesaplayan ve ekrana yazdıran bir program yazınız. "
   ]
  },
  {
   "cell_type": "code",
   "execution_count": null,
   "metadata": {},
   "outputs": [],
   "source": []
  }
 ],
 "metadata": {
  "kernelspec": {
   "display_name": "Python 3",
   "language": "python",
   "name": "python3"
  },
  "language_info": {
   "codemirror_mode": {
    "name": "ipython",
    "version": 3
   },
   "file_extension": ".py",
   "mimetype": "text/x-python",
   "name": "python",
   "nbconvert_exporter": "python",
   "pygments_lexer": "ipython3",
   "version": "3.7.4"
  },
  "toc": {
   "base_numbering": 1,
   "nav_menu": {
    "height": "369px",
    "width": "240px"
   },
   "number_sections": true,
   "sideBar": true,
   "skip_h1_title": false,
   "title_cell": "Table of Contents",
   "title_sidebar": "Contents",
   "toc_cell": false,
   "toc_position": {
    "height": "calc(100% - 180px)",
    "left": "10px",
    "top": "150px",
    "width": "357.533px"
   },
   "toc_section_display": true,
   "toc_window_display": false
  }
 },
 "nbformat": 4,
 "nbformat_minor": 2
}
