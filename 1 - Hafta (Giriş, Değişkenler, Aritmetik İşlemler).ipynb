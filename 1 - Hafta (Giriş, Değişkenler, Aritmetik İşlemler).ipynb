{
 "cells": [
  {
   "cell_type": "markdown",
   "metadata": {
    "slideshow": {
     "slide_type": "slide"
    }
   },
   "source": [
    "# Mühendishane Temel Python Eğitim Kursu\n",
    "\n",
    "Mühendishane öğrencilerine özel bu kurs sayesinde bilgisayar programlamaya temel seviyede başlamak için gerekli bilgileri öğrenebilirsiniz. Kurstan sonra kendinizi geliştirerek daha profesyonel kodlar geliştirebilir ve kendi uygulamalarınızı yazabilirsiniz. Burada anlatılanlar sadece bir giriş anlamı taşıyacak ve daha ileri seviye programlar için sizin çabalarınız belirleyici olacaktır. Kurs boyunca kodları interaktif olarak birlikte yazacağız. Çünkü program yazma ancak ve ancak yazarak öğrenilebilir. \n",
    "\n",
    "\n",
    "## Kimler için?\n",
    "\n",
    "Bu eğitim hiç bilgisayar programlama çalışması yapmamış kişiler için hazırlanmıştır. Eğer daha önce bir eğitiminiz varsa ya da program geliştirdiyseniz bu eğitim sizin için basit kalabilir."
   ]
  },
  {
   "cell_type": "markdown",
   "metadata": {
    "slideshow": {
     "slide_type": "subslide"
    }
   },
   "source": [
    "## Ben Kimim?\n",
    "\n",
    "Ben Caner Erden [linkten]( http://canererden.com/cv/ ) cv'me ulaşabilirsiniz. İlgi alanlarım makine çizelgeleme, sezgisel algoritmalar ve yapay zeka uygulamalarıdır. Programcılığa lisans dönemimde ilgi duymama rağmen önemli programlama çalışmalarıma doktora teziyle başladım. Doktora tezini yazarken tanıştığım Python programlama diliyle birçok akademik ve ofis işimi yapabiliyorum. Bu eğitimdeki içerik ve metotlar kendi tecrübelerimden yola çıkılarak hazırlanmıştır.\n",
    "\n",
    "## Bu kursta neler öğreneceğiz?\n",
    "\n",
    "Bu kursta öğrenmek isteyen herkese Python bilgisayar programlama dilinin temeli öğretilmeye çalışılacak. Merak etmeyin bu temel eğitim aşaması zor bir şey değil. Yeterli dikkat ve emekle herkesin üstesinden gelebileceği bir şey. Tabii her konuda olduğu gibi programcılık da derya deniz bir konu. Aranızda çok karmaşık yapıları, mühendislik problemlerini çözmeye aday kişiler de olabilir. Ancak bu kursta basit yapıda programlar geliştirilecek. Devamı için kendini geliştirmek isteyenlere yardımcı olabilirim ama bu kursta giriş seviyesinde bir yerde bitireceğiz.    \n",
    "\n",
    "**Eğer çok ve verimli çalışırsanız, zaman ayırırsanız kodlama ile akademik hayatınızdaki birçok probleminizi çözebilirsiniz.**    \n",
    "\n",
    "Temel Python öğreniminin günde 2 saatten 3 ay çalışma gerektirdiği söylenir. Eğer bir alanda örneğin internet programcılığı alanında uzmanlaşmak istiyorsanız artı olarak HTML, CSS, Javascript ve Django gibi bilgileri de edinmeniz gerekir. Bu da 6 aylık bir çalışmaya daha ihtiyacınız var demektir.  "
   ]
  },
  {
   "cell_type": "markdown",
   "metadata": {
    "slideshow": {
     "slide_type": "subslide"
    }
   },
   "source": [
    "## Konular\n",
    "\n",
    "Kurs haftada 2 saat ve toplam 4 hafta olarak planlanmıştır. Kurs içeriği aşağıda verilmiştir. \n",
    "\n",
    "- 1. Hafta\n",
    "     1. Giriş\n",
    "     2. Gömülü Fonksiyonlar (print(), input(), type())\n",
    "     3. Değişkenler (int, float, string)\n",
    "     4. Aritmetik İşlemler (toplama, çıkarma, çarpma, bölme, üs alma vb.)\n",
    "\n",
    "- 2. Hafta\n",
    "     1. Fonksiyonlar\n",
    "     2. Modüller, Paketler\n",
    "     3. Listeler\n",
    "     4. Sözlükler\n",
    "     5. Kümeler\n",
    "\n",
    "- 3. Hafta\n",
    "\n",
    "     1. Koşullu durumlar\n",
    "     2. Döngüler\n",
    "     3. Temel paketler\n",
    "        1. os, random, sys, datetime\n",
    "\n",
    "     4. Dosya işlemleri\n",
    "\n",
    "- 4. Hafta\n",
    "     1. Veri Bilimi\n",
    "     2. Numpy\n",
    "     3. Pandas\n",
    "     4. Matplotlib\n",
    "     5. Uygulama (Regresyon analizi)"
   ]
  },
  {
   "cell_type": "markdown",
   "metadata": {
    "slideshow": {
     "slide_type": "slide"
    }
   },
   "source": [
    "# Python\n",
    "\n",
    " Python birçok programlama alanında kullanabileceğiniz genel  amaçlı(Masaüstü, Web, Mobil ortamlar) nesne yönelimli bir programlama  dilidir. Diğer popüler programlama dillerinden farklı olarak  yorumlanabilir bir programlama dilidir. Yani bir derleyiciye ihtiyaç  duymaz.  \n",
    "\n",
    "## Neden Python\n",
    "\n",
    "1. Öğrenmesi, okuması, yazması diğerlerine göre daha kolay\n",
    "2. Popüler\n",
    "Python'un diğer programlama dilleri ile olan konumu için [videoyu](https://www.youtube.com/embed/cKzP61Gjf00) izleyebiliriz.\n",
    "\n",
    "3. Ücretsizdir\n",
    "4. Önemli şirketler kullanıyor ve destekliyor (Dropbox, Instagram, Google vb.)\n",
    "5. Birçok alanda kullanılabilir\n",
    "    - Yapay Zeka (Scikit-Learn, Keras, TensorFlow, Caffe)\n",
    "    - Veri Bilimi (Numpy ,SciPy, Matplotlib, Pandas)\n",
    "    - Robotik (rasperry pi)\n",
    "    - Web Programlama (Django ve Flask)\n",
    "    - Oyun Programlama (PyGame)\n",
    "    - Mobil Uygulama ((Kivy)\n",
    "    - Arayüz Programları (PyQt, PyGTK, Tkinter, wxPython)\n",
    "    - Örümcek yazılımlar (Scrapy, Requests, Beatifulsoup)\n",
    "    - Veri madenciliği(Numpy ,SciPy, Matplotlib, Pandas vb.)\n",
    "    - Blockchain"
   ]
  },
  {
   "cell_type": "markdown",
   "metadata": {
    "slideshow": {
     "slide_type": "subslide"
    }
   },
   "source": [
    "## Öğrenme Kaynakları\n",
    "\n",
    "Aşağıdakiler sadece örnektir. İnternette bir dünya kaynak bulabilirsiniz.\n",
    "\n",
    "1. Turkce kaynak\n",
    "   - [istihza](https://belgeler.yazbel.com/python-istihza/)\n",
    "2. Yabancı kaynak \n",
    "   - Learn Python Hard Way\n",
    "   - YouTube kanalları\n",
    "     - Sendex\n",
    "     - Techwithtim\n",
    "   - Sayfalar\n",
    "     - Towardsdatascience\n",
    "     - Realpython\n",
    "     - Python everywhere\n",
    "\n",
    "## Python Soruları nasıl, nerede sorulur?  \n",
    "\n",
    "Soru Sorulabilecek Sayfalar:\n",
    "1. [Stackoverflow ](https://stackoverflow.com/)\n",
    "2. [Github](https://github.com/)\n",
    "3. [Python forum](https://www.python.org/community/forums/)\n",
    "4. [Google Groups](https://groups.google.com/forum/#!forum/python-ideas)\n",
    "5. [Paket dokümantasyonları](https://docs.scipy.org/doc/numpy/reference/)\n",
    "6. [Facebook, Twitter, Linkedin vb sosyal medyalar!]"
   ]
  },
  {
   "cell_type": "markdown",
   "metadata": {
    "slideshow": {
     "slide_type": "subslide"
    }
   },
   "source": [
    "## Python Kurulumu\n",
    "\n",
    "Çalışmaya başlamak için Anaconda yeterli. Eğitime gelmeden önce, bilgisayarınıza  [Anaconda](https://www.anaconda.com/distribution/) Python 3.7 versiyon dağıtımını yükleyiniz. Arzu eden Anaconda dışında kendi çalışma ortamını oluşturabilir. \n",
    "\n",
    "Çalışma Ortamı tavsiyeleri:  \n",
    "\n",
    "1. Jupyter (Interactive Code Editor)\n",
    "2. Visual Studio Code (Editor)\n",
    "3. Pycharm (IDE)\n",
    "4. Atom  (Editor)\n",
    "5. Sublime Text (Editor)\n",
    "6. Kaggle (Online)\n",
    "7. Google Colab (Online)\n",
    "8. Spyder (IDE)\n",
    "  \n",
    "\n",
    "### Jupyter Hakkında\n",
    "\n",
    "Hem notlarınızı hem de kodlarınızı bir arada tutmak için kullanabileceğiniz en başarılı araçlardan birisidir. Bu alanda kendisini kanıtlamıştır ve birçok geliştirici tarafından kullanılmaktadır. Genellikle veri bilimi konusunda çalışanlar tarafından tercih edilmektedir. \n",
    "\n",
    "Bu kursta kullanılıcak araçlardan birisi de Jupyter Notebook'lardır. Kodları burada geliştirebilir ve sonuçları buradan takip edebiliriz.\n",
    "\n",
    "Jupyter programını açmak için Anaconda programını kurduktan sonra Başlat >> Anaconda3 >> Jupyter Programına tıklayınız. Çalışma klasörünü seçtikten sonra bir python 3 dosyası oluşturunuz. \n",
    "\n",
    "**Artık kod yazmaya başlayabiliriz.** "
   ]
  },
  {
   "cell_type": "markdown",
   "metadata": {
    "slideshow": {
     "slide_type": "slide"
    }
   },
   "source": [
    "# Gömülü Fonksiyonlar\n",
    "Python kurulumu ile birlikte gelen ve sonradan kurmanıza gerek kalmayan fonksiyonlardır. Örnekler aşağıdadır.\n",
    "## Print Fonksiyonu\n",
    "\n",
    "print() fonksiyonu içerisine yazılan bilgiyi ekrana yazdırır.\n"
   ]
  },
  {
   "cell_type": "code",
   "execution_count": null,
   "metadata": {
    "slideshow": {
     "slide_type": "slide"
    }
   },
   "outputs": [],
   "source": [
    "print(\"Mühendishane\")\n",
    "print(\"o----\")\n",
    "print(\"*\"*10)"
   ]
  },
  {
   "cell_type": "markdown",
   "metadata": {},
   "source": [
    "**\\n karakteri**  \n",
    "Alt satırdan ekrana yazdırır"
   ]
  },
  {
   "cell_type": "code",
   "execution_count": null,
   "metadata": {},
   "outputs": [],
   "source": [
    "print(\"Mühendishane\\nPython\\nEğtimine\\nHoşgeldiniz\")"
   ]
  },
  {
   "cell_type": "markdown",
   "metadata": {},
   "source": [
    "**\\t karakteri**  \n",
    "bir tab boşluk bırakarak ekrana yazdırır"
   ]
  },
  {
   "cell_type": "code",
   "execution_count": null,
   "metadata": {},
   "outputs": [],
   "source": [
    "print(\"Mühendishane\\tPython\\tEğtimine\\tHoşgeldiniz\")"
   ]
  },
  {
   "cell_type": "markdown",
   "metadata": {},
   "source": [
    "**sep parametresi**  \n",
    "değerlerin arasına istediğimiz karakteri yazdırabiliriz."
   ]
  },
  {
   "cell_type": "code",
   "execution_count": null,
   "metadata": {},
   "outputs": [],
   "source": [
    "print(\"Mühendishane\", \"Python\", \"Eğitimi\", sep = \"-\")"
   ]
  },
  {
   "cell_type": "markdown",
   "metadata": {
    "slideshow": {
     "slide_type": "subslide"
    }
   },
   "source": [
    "### Format Print()\n",
    "\"Mehmet Yılmaz\" isminde bir hastanın bilgilerini ekrana yazdıralım"
   ]
  },
  {
   "cell_type": "code",
   "execution_count": null,
   "metadata": {
    "slideshow": {
     "slide_type": "subslide"
    }
   },
   "outputs": [],
   "source": [
    "print(\"Bugün hastaneye {} isminde {} yaşında bir hasta gelmiştir\".format(\"Mehmet Yılmaz\",30))"
   ]
  },
  {
   "cell_type": "code",
   "execution_count": null,
   "metadata": {
    "slideshow": {
     "slide_type": "subslide"
    }
   },
   "outputs": [],
   "source": [
    "print(\"Hastanın {} ateş derece ateşi vardır\".format(37))"
   ]
  },
  {
   "cell_type": "markdown",
   "metadata": {
    "slideshow": {
     "slide_type": "slide"
    }
   },
   "source": [
    "## Input() Fonksiyonu\n",
    "Kullanıcıdan veri almak için kullanılır."
   ]
  },
  {
   "cell_type": "code",
   "execution_count": null,
   "metadata": {
    "slideshow": {
     "slide_type": "subslide"
    }
   },
   "outputs": [],
   "source": [
    "isim = input(\"isminiz nedir? \")\n",
    "# + işareti birleştirmek için (boşluk bırakmaz)\n",
    "print(\"Merhaba \" + isim)"
   ]
  },
  {
   "cell_type": "code",
   "execution_count": null,
   "metadata": {
    "slideshow": {
     "slide_type": "subslide"
    }
   },
   "outputs": [],
   "source": [
    "yas = input(\"Yaşınız kaç? \")\n",
    "# , işareti de birleştirme için kullanılır arada boşluk vardır.\n",
    "print(isim, yas, \"yasindadir\")"
   ]
  },
  {
   "cell_type": "markdown",
   "metadata": {
    "slideshow": {
     "slide_type": "subslide"
    }
   },
   "source": [
    "### Yaş hesaplama\n",
    "Girilen yıla göre yaş hesaplama"
   ]
  },
  {
   "cell_type": "code",
   "execution_count": null,
   "metadata": {
    "slideshow": {
     "slide_type": "subslide"
    }
   },
   "outputs": [],
   "source": [
    "dogum_yili = input(\"Doğum yılınızı giriniz >> \")\n",
    "yas = 2019 - dogum_yili\n",
    "print(\"Yaşınız \", yas)"
   ]
  },
  {
   "cell_type": "markdown",
   "metadata": {
    "slideshow": {
     "slide_type": "subslide"
    }
   },
   "source": [
    "### Değişken dönüşümü\n",
    "input her değişkeni str olarak alır. Bu nedenle değişken dönüşümü yapmamız gerekir.\n",
    "int() fonksiyonu tam sayıya çevirir.  \n",
    "float() küsuratlı, str() metin e çevirir"
   ]
  },
  {
   "cell_type": "code",
   "execution_count": null,
   "metadata": {
    "slideshow": {
     "slide_type": "subslide"
    }
   },
   "outputs": [],
   "source": [
    "dogum_yili = int(dogum_yili)\n",
    "yas = 2019 - dogum_yili\n",
    "print(\"Yaşınız \", yas)"
   ]
  },
  {
   "cell_type": "code",
   "execution_count": null,
   "metadata": {
    "slideshow": {
     "slide_type": "subslide"
    }
   },
   "outputs": [],
   "source": [
    "dogum_yili = int(input(\"Doğum yılınızı giriniz >> \"))\n",
    "print(\"yasiniz\", 2019-dogum_yili)\n"
   ]
  },
  {
   "cell_type": "markdown",
   "metadata": {
    "slideshow": {
     "slide_type": "subslide"
    }
   },
   "source": [
    "### TL Dolar dönüşümü"
   ]
  },
  {
   "cell_type": "code",
   "execution_count": null,
   "metadata": {
    "slideshow": {
     "slide_type": "subslide"
    }
   },
   "outputs": [],
   "source": [
    "TL_miktar = float(input(\"Elinizdeki TL miktarını giriniz: \"))\n",
    "dolar_miktari = TL_miktar*0.2\n",
    "print(\"Elinizdeki TL'nin Dolar karşılığı \", dolar_miktari)"
   ]
  },
  {
   "cell_type": "markdown",
   "metadata": {
    "slideshow": {
     "slide_type": "slide"
    }
   },
   "source": [
    "## Değişkenler\n",
    "### integer\n",
    "Tam sayılar"
   ]
  },
  {
   "cell_type": "code",
   "execution_count": null,
   "metadata": {
    "slideshow": {
     "slide_type": "subslide"
    }
   },
   "outputs": [],
   "source": [
    "yas = 10\n",
    "print(yas)\n",
    "print(type(yas))"
   ]
  },
  {
   "cell_type": "markdown",
   "metadata": {
    "slideshow": {
     "slide_type": "subslide"
    }
   },
   "source": [
    "### Float\n",
    "Küsüratlı değerler"
   ]
  },
  {
   "cell_type": "code",
   "execution_count": null,
   "metadata": {
    "slideshow": {
     "slide_type": "subslide"
    }
   },
   "outputs": [],
   "source": [
    "ates_derecesi = 36.9\n",
    "print(type(ates_derecesi))"
   ]
  },
  {
   "cell_type": "markdown",
   "metadata": {
    "slideshow": {
     "slide_type": "subslide"
    }
   },
   "source": [
    "### String\n",
    "Metinsel değişkenler"
   ]
  },
  {
   "cell_type": "code",
   "execution_count": null,
   "metadata": {
    "slideshow": {
     "slide_type": "subslide"
    }
   },
   "outputs": [],
   "source": [
    "isim_soyisim = \"Mehmet Yılmaz\"\n",
    "print(type(isim_soyisim))"
   ]
  },
  {
   "cell_type": "markdown",
   "metadata": {
    "slideshow": {
     "slide_type": "subslide"
    }
   },
   "source": [
    "### bool değişkenleri\n",
    "Doğru Yanlış değerleridir"
   ]
  },
  {
   "cell_type": "code",
   "execution_count": null,
   "metadata": {
    "slideshow": {
     "slide_type": "subslide"
    }
   },
   "outputs": [],
   "source": [
    "oksuruk_var_mi = True\n",
    "print(type(oksuruk_var_mi))"
   ]
  },
  {
   "cell_type": "markdown",
   "metadata": {
    "slideshow": {
     "slide_type": "slide"
    }
   },
   "source": [
    "## Stringler"
   ]
  },
  {
   "cell_type": "code",
   "execution_count": null,
   "metadata": {
    "slideshow": {
     "slide_type": "slide"
    }
   },
   "outputs": [],
   "source": [
    "# Tek ' ile tanımlama\n",
    "kurs_adi = 'Mühendishane'nin Python Eğitimi'\n"
   ]
  },
  {
   "cell_type": "code",
   "execution_count": null,
   "metadata": {
    "slideshow": {
     "slide_type": "subslide"
    }
   },
   "outputs": [],
   "source": [
    "kurs_adi=\"Mühendishane'nin Python Eğitimi\""
   ]
  },
  {
   "cell_type": "code",
   "execution_count": null,
   "metadata": {
    "slideshow": {
     "slide_type": "subslide"
    }
   },
   "outputs": [],
   "source": [
    "print(kurs_adi[:12])"
   ]
  },
  {
   "cell_type": "code",
   "execution_count": null,
   "metadata": {
    "slideshow": {
     "slide_type": "subslide"
    }
   },
   "outputs": [],
   "source": [
    "print(kurs_adi[17:])"
   ]
  },
  {
   "cell_type": "code",
   "execution_count": null,
   "metadata": {
    "slideshow": {
     "slide_type": "subslide"
    }
   },
   "outputs": [],
   "source": [
    "print(kurs_adi[17:23])"
   ]
  },
  {
   "cell_type": "code",
   "execution_count": null,
   "metadata": {
    "slideshow": {
     "slide_type": "subslide"
    }
   },
   "outputs": [],
   "source": [
    "# bir metindeki karakter sayısını ölçmek için\n",
    "print(len(kurs_adi))"
   ]
  },
  {
   "cell_type": "code",
   "execution_count": null,
   "metadata": {
    "slideshow": {
     "slide_type": "subslide"
    }
   },
   "outputs": [],
   "source": [
    "# büyük ya da küçük karaktere dönüştürme\n",
    "print(kurs_adi.upper())"
   ]
  },
  {
   "cell_type": "code",
   "execution_count": null,
   "metadata": {
    "slideshow": {
     "slide_type": "subslide"
    }
   },
   "outputs": [],
   "source": [
    "print(kurs_adi.lower())"
   ]
  },
  {
   "cell_type": "code",
   "execution_count": null,
   "metadata": {
    "slideshow": {
     "slide_type": "subslide"
    }
   },
   "outputs": [],
   "source": [
    "# Kurs adı değişmiyor\n",
    "print(kurs_adi)"
   ]
  },
  {
   "cell_type": "code",
   "execution_count": null,
   "metadata": {
    "slideshow": {
     "slide_type": "subslide"
    }
   },
   "outputs": [],
   "source": [
    "# Karakterin kaçıncı sırada olduğunu bulmak için\n",
    "print(kurs_adi.find('P'))"
   ]
  },
  {
   "cell_type": "code",
   "execution_count": null,
   "metadata": {
    "slideshow": {
     "slide_type": "subslide"
    }
   },
   "outputs": [],
   "source": [
    "# kelimenin ilk harfinin başlangıcını yazar\n",
    "print(kurs_adi.find('Eğitimi'))"
   ]
  },
  {
   "cell_type": "code",
   "execution_count": null,
   "metadata": {
    "slideshow": {
     "slide_type": "subslide"
    }
   },
   "outputs": [],
   "source": [
    "# bir yerdeki karakterleri değiştirmek için\n",
    "print(kurs_adi.replace(\"Python\", \"C++\"))"
   ]
  },
  {
   "cell_type": "code",
   "execution_count": null,
   "metadata": {
    "slideshow": {
     "slide_type": "subslide"
    }
   },
   "outputs": [],
   "source": [
    "# bir takım karakterler var mı diye bakmak [in] operatörü\n",
    "print('Python' in kurs_adi)"
   ]
  },
  {
   "cell_type": "code",
   "execution_count": null,
   "metadata": {
    "scrolled": true
   },
   "outputs": [],
   "source": [
    "# center\n",
    "print(kurs_adi.center(50,\"*\"))\n",
    "# split fonksiyonu\n",
    "'1+2+3+4+5'.split('+')\n",
    "# strip fonksiyonu\n",
    "\" Mühendishane'nin Python Eğitimi \".strip()\n",
    "# join\n",
    "'+'.join(\"1234\")"
   ]
  },
  {
   "cell_type": "markdown",
   "metadata": {
    "slideshow": {
     "slide_type": "slide"
    }
   },
   "source": [
    "## Aritmetik işlemleri"
   ]
  },
  {
   "cell_type": "code",
   "execution_count": null,
   "metadata": {
    "slideshow": {
     "slide_type": "subslide"
    }
   },
   "outputs": [],
   "source": [
    "# Toplama çıkarma\n",
    "print(10+3)\n",
    "# çarpma, üs alma\n",
    "print(10**3)\n",
    "# bölme, modül alma\n",
    "print(10/3)\n",
    "print(10//3)\n",
    "print(10%3)"
   ]
  },
  {
   "cell_type": "markdown",
   "metadata": {
    "slideshow": {
     "slide_type": "subslide"
    }
   },
   "source": [
    "### Operasyon öncelikleri\n",
    "0. parantez içi\n",
    "1. Üssel ifadeler 2**3\n",
    "2. çarpma veya bölme\n",
    "3. toplama veya çıkarma"
   ]
  },
  {
   "cell_type": "code",
   "execution_count": null,
   "metadata": {
    "slideshow": {
     "slide_type": "subslide"
    }
   },
   "outputs": [],
   "source": [
    "x = 30+4*5\n",
    "y = 3**2*4-10*2\n",
    "z = (9+2)**2+3\n",
    "print(x)\n",
    "print(y)\n",
    "print(z)"
   ]
  },
  {
   "cell_type": "code",
   "execution_count": null,
   "metadata": {
    "slideshow": {
     "slide_type": "subslide"
    }
   },
   "outputs": [],
   "source": [
    "# mutlak değer\n",
    "print(abs(-2.6))"
   ]
  },
  {
   "cell_type": "markdown",
   "metadata": {
    "slideshow": {
     "slide_type": "subslide"
    }
   },
   "source": [
    "### Math Modülü\n",
    "Matematiksel işlemlerin olduğu modül\n",
    "Python’ın Standart Kütüphanesi içinde hangi modüllerin olduğunu\n",
    "https://docs.python.org/3/library/ adresinden inceleyebilirsiniz."
   ]
  },
  {
   "cell_type": "code",
   "execution_count": null,
   "metadata": {
    "slideshow": {
     "slide_type": "subslide"
    }
   },
   "outputs": [],
   "source": [
    "# Math modülünü çağırıyoruz.\n",
    "import math"
   ]
  },
  {
   "cell_type": "code",
   "execution_count": null,
   "metadata": {
    "slideshow": {
     "slide_type": "subslide"
    }
   },
   "outputs": [],
   "source": [
    "# modül içindeki tüm fonksiyonlar\n",
    "dir(math)"
   ]
  },
  {
   "cell_type": "code",
   "execution_count": null,
   "metadata": {
    "slideshow": {
     "slide_type": "subslide"
    }
   },
   "outputs": [],
   "source": [
    "x = 2.9\n",
    "y=math.ceil(x)\n",
    "print(y)\n",
    "z = math.floor(x)\n",
    "print(z)\n",
    "pi=math.pi\n",
    "print(pi)\n",
    "kok=math.sqrt(16)\n",
    "print(kok)\n",
    "print(math.inf)\n",
    "print(math.factorial(5))"
   ]
  },
  {
   "cell_type": "markdown",
   "metadata": {},
   "source": [
    "## Ödev"
   ]
  },
  {
   "cell_type": "markdown",
   "metadata": {},
   "source": [
    "**[Practice Python](https://www.practicepython.org/)'daki aşağıdaki örnekleri çözelim**  \n",
    "1. [Exercise 1](https://www.practicepython.org/exercise/2014/01/29/01-character-input.html)  \n",
    "2. [Exercise 6](https://www.practicepython.org/exercise/2014/03/12/06-string-lists.html)\n",
    "3. Kullanıcıdan alınan yarıçap ölçüsü(float) ile çemberin çevresini ve alanını hesaplayan ve ekrana yazdıran bir program yazınız. "
   ]
  },
  {
   "cell_type": "code",
   "execution_count": null,
   "metadata": {},
   "outputs": [],
   "source": []
  }
 ],
 "metadata": {
  "kernelspec": {
   "display_name": "Python 3",
   "language": "python",
   "name": "python3"
  },
  "language_info": {
   "codemirror_mode": {
    "name": "ipython",
    "version": 3
   },
   "file_extension": ".py",
   "mimetype": "text/x-python",
   "name": "python",
   "nbconvert_exporter": "python",
   "pygments_lexer": "ipython3",
   "version": "3.7.4"
  },
  "toc": {
   "base_numbering": 1,
   "nav_menu": {
    "height": "369px",
    "width": "240px"
   },
   "number_sections": true,
   "sideBar": true,
   "skip_h1_title": false,
   "title_cell": "Table of Contents",
   "title_sidebar": "Contents",
   "toc_cell": false,
   "toc_position": {
    "height": "calc(100% - 180px)",
    "left": "10px",
    "top": "150px",
    "width": "357.533px"
   },
   "toc_section_display": true,
   "toc_window_display": false
  }
 },
 "nbformat": 4,
 "nbformat_minor": 2
}
